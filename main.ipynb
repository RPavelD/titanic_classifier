{
 "cells": [
  {
   "cell_type": "code",
   "execution_count": 160,
   "id": "9bda6359",
   "metadata": {
    "ExecuteTime": {
     "end_time": "2022-06-21T03:17:37.311147Z",
     "start_time": "2022-06-21T03:17:37.299460Z"
    }
   },
   "outputs": [],
   "source": [
    "import plotly.express as px\n",
    "import seaborn as sns\n",
    "sns.set()\n",
    "sns.set(rc={'figure.figsize':(11.7*1.3, 8.27*1.3)})\n",
    "sns.set_theme(style=\"whitegrid\", palette=\"deep\") #pastel\n",
    "sns.set_context(\"paper\", font_scale=1.5)\n",
    "\n",
    "import numpy as np\n",
    "import pandas as pd\n",
    "pd.options.plotting.backend = \"plotly\"\n",
    "\n",
    "from fancyimpute import KNN\n",
    "\n",
    "from catboost import CatBoostClassifier\n",
    "from sklearn.model_selection import train_test_split\n",
    "from sklearn import preprocessing\n",
    "from sklearn.metrics import accuracy_score\n",
    "\n",
    "from sklearn.neighbors import KNeighborsClassifier\n",
    "from sys import getsizeof\n",
    "import missingno as msn"
   ]
  },
  {
   "cell_type": "code",
   "execution_count": 161,
   "id": "328a2e04",
   "metadata": {
    "ExecuteTime": {
     "end_time": "2022-06-21T03:17:37.550387Z",
     "start_time": "2022-06-21T03:17:37.532145Z"
    }
   },
   "outputs": [
    {
     "data": {
      "text/html": [
       "<div>\n",
       "<style scoped>\n",
       "    .dataframe tbody tr th:only-of-type {\n",
       "        vertical-align: middle;\n",
       "    }\n",
       "\n",
       "    .dataframe tbody tr th {\n",
       "        vertical-align: top;\n",
       "    }\n",
       "\n",
       "    .dataframe thead th {\n",
       "        text-align: right;\n",
       "    }\n",
       "</style>\n",
       "<table border=\"1\" class=\"dataframe\">\n",
       "  <thead>\n",
       "    <tr style=\"text-align: right;\">\n",
       "      <th></th>\n",
       "      <th>PassengerId</th>\n",
       "      <th>Survived</th>\n",
       "      <th>Pclass</th>\n",
       "      <th>Name</th>\n",
       "      <th>Sex</th>\n",
       "      <th>Age</th>\n",
       "      <th>SibSp</th>\n",
       "      <th>Parch</th>\n",
       "      <th>Ticket</th>\n",
       "      <th>Fare</th>\n",
       "      <th>Cabin</th>\n",
       "      <th>Embarked</th>\n",
       "    </tr>\n",
       "  </thead>\n",
       "  <tbody>\n",
       "    <tr>\n",
       "      <th>0</th>\n",
       "      <td>1</td>\n",
       "      <td>0</td>\n",
       "      <td>3</td>\n",
       "      <td>Braund, Mr. Owen Harris</td>\n",
       "      <td>male</td>\n",
       "      <td>22.0</td>\n",
       "      <td>1</td>\n",
       "      <td>0</td>\n",
       "      <td>A/5 21171</td>\n",
       "      <td>7.2500</td>\n",
       "      <td>NaN</td>\n",
       "      <td>S</td>\n",
       "    </tr>\n",
       "    <tr>\n",
       "      <th>1</th>\n",
       "      <td>2</td>\n",
       "      <td>1</td>\n",
       "      <td>1</td>\n",
       "      <td>Cumings, Mrs. John Bradley (Florence Briggs Th...</td>\n",
       "      <td>female</td>\n",
       "      <td>38.0</td>\n",
       "      <td>1</td>\n",
       "      <td>0</td>\n",
       "      <td>PC 17599</td>\n",
       "      <td>71.2833</td>\n",
       "      <td>C85</td>\n",
       "      <td>C</td>\n",
       "    </tr>\n",
       "    <tr>\n",
       "      <th>2</th>\n",
       "      <td>3</td>\n",
       "      <td>1</td>\n",
       "      <td>3</td>\n",
       "      <td>Heikkinen, Miss. Laina</td>\n",
       "      <td>female</td>\n",
       "      <td>26.0</td>\n",
       "      <td>0</td>\n",
       "      <td>0</td>\n",
       "      <td>STON/O2. 3101282</td>\n",
       "      <td>7.9250</td>\n",
       "      <td>NaN</td>\n",
       "      <td>S</td>\n",
       "    </tr>\n",
       "    <tr>\n",
       "      <th>3</th>\n",
       "      <td>4</td>\n",
       "      <td>1</td>\n",
       "      <td>1</td>\n",
       "      <td>Futrelle, Mrs. Jacques Heath (Lily May Peel)</td>\n",
       "      <td>female</td>\n",
       "      <td>35.0</td>\n",
       "      <td>1</td>\n",
       "      <td>0</td>\n",
       "      <td>113803</td>\n",
       "      <td>53.1000</td>\n",
       "      <td>C123</td>\n",
       "      <td>S</td>\n",
       "    </tr>\n",
       "    <tr>\n",
       "      <th>4</th>\n",
       "      <td>5</td>\n",
       "      <td>0</td>\n",
       "      <td>3</td>\n",
       "      <td>Allen, Mr. William Henry</td>\n",
       "      <td>male</td>\n",
       "      <td>35.0</td>\n",
       "      <td>0</td>\n",
       "      <td>0</td>\n",
       "      <td>373450</td>\n",
       "      <td>8.0500</td>\n",
       "      <td>NaN</td>\n",
       "      <td>S</td>\n",
       "    </tr>\n",
       "  </tbody>\n",
       "</table>\n",
       "</div>"
      ],
      "text/plain": [
       "   PassengerId  Survived  Pclass  \\\n",
       "0            1         0       3   \n",
       "1            2         1       1   \n",
       "2            3         1       3   \n",
       "3            4         1       1   \n",
       "4            5         0       3   \n",
       "\n",
       "                                                Name     Sex   Age  SibSp  \\\n",
       "0                            Braund, Mr. Owen Harris    male  22.0      1   \n",
       "1  Cumings, Mrs. John Bradley (Florence Briggs Th...  female  38.0      1   \n",
       "2                             Heikkinen, Miss. Laina  female  26.0      0   \n",
       "3       Futrelle, Mrs. Jacques Heath (Lily May Peel)  female  35.0      1   \n",
       "4                           Allen, Mr. William Henry    male  35.0      0   \n",
       "\n",
       "   Parch            Ticket     Fare Cabin Embarked  \n",
       "0      0         A/5 21171   7.2500   NaN        S  \n",
       "1      0          PC 17599  71.2833   C85        C  \n",
       "2      0  STON/O2. 3101282   7.9250   NaN        S  \n",
       "3      0            113803  53.1000  C123        S  \n",
       "4      0            373450   8.0500   NaN        S  "
      ]
     },
     "execution_count": 161,
     "metadata": {},
     "output_type": "execute_result"
    }
   ],
   "source": [
    "df = pd.read_csv('./data/titanic/train.csv')\n",
    "df_test = pd.read_csv('./data/titanic/test.csv')\n",
    "df.head()"
   ]
  },
  {
   "cell_type": "markdown",
   "id": "7f7ca5d1",
   "metadata": {},
   "source": [
    "# Анализ признаков"
   ]
  },
  {
   "cell_type": "markdown",
   "id": "16157d1f",
   "metadata": {},
   "source": [
    "### Посмотрим на пропущеные значения"
   ]
  },
  {
   "cell_type": "code",
   "execution_count": 162,
   "id": "71c7133d",
   "metadata": {
    "ExecuteTime": {
     "end_time": "2022-06-21T03:17:38.424095Z",
     "start_time": "2022-06-21T03:17:38.209321Z"
    }
   },
   "outputs": [
    {
     "data": {
      "image/png": "[encoded data removed]",
      "text/plain": [
       "<Figure size 1800x720 with 2 Axes>"
      ]
     },
     "metadata": {},
     "output_type": "display_data"
    }
   ],
   "source": [
    "msn.matrix(df);"
   ]
  },
  {
   "cell_type": "markdown",
   "id": "0b20eeb6",
   "metadata": {},
   "source": [
    "### Посмотрим на дубликаты в каждом признаке"
   ]
  },
  {
   "cell_type": "code",
   "execution_count": 163,
   "id": "0d88bbd1",
   "metadata": {
    "ExecuteTime": {
     "end_time": "2022-06-21T03:17:38.881856Z",
     "start_time": "2022-06-21T03:17:38.707184Z"
    }
   },
   "outputs": [
    {
     "data": {
      "image/png": "[encoded data removed]",
      "text/plain": [
       "<Figure size 1800x720 with 2 Axes>"
      ]
     },
     "metadata": {},
     "output_type": "display_data"
    }
   ],
   "source": [
    "df_duplicateds = pd.DataFrame([(~df[col].duplicated()).astype(int).replace(0,np.nan) for col in ['Cabin', 'Ticket', 'Name']]).T\n",
    "msn.matrix(df_duplicateds);"
   ]
  },
  {
   "cell_type": "markdown",
   "id": "10e6cd4d",
   "metadata": {},
   "source": [
    "__________\n",
    "### Какой процент выживыших для каждого класса?"
   ]
  },
  {
   "cell_type": "code",
   "execution_count": 164,
   "id": "c0311810",
   "metadata": {
    "ExecuteTime": {
     "end_time": "2022-06-21T03:17:39.444788Z",
     "start_time": "2022-06-21T03:17:39.428508Z"
    }
   },
   "outputs": [
    {
     "data": {
      "text/html": [
       "<div>\n",
       "<style scoped>\n",
       "    .dataframe tbody tr th:only-of-type {\n",
       "        vertical-align: middle;\n",
       "    }\n",
       "\n",
       "    .dataframe tbody tr th {\n",
       "        vertical-align: top;\n",
       "    }\n",
       "\n",
       "    .dataframe thead th {\n",
       "        text-align: right;\n",
       "    }\n",
       "</style>\n",
       "<table border=\"1\" class=\"dataframe\">\n",
       "  <thead>\n",
       "    <tr style=\"text-align: right;\">\n",
       "      <th></th>\n",
       "      <th>Survived</th>\n",
       "    </tr>\n",
       "    <tr>\n",
       "      <th>Pclass</th>\n",
       "      <th></th>\n",
       "    </tr>\n",
       "  </thead>\n",
       "  <tbody>\n",
       "    <tr>\n",
       "      <th>1</th>\n",
       "      <td>62.96%</td>\n",
       "    </tr>\n",
       "    <tr>\n",
       "      <th>2</th>\n",
       "      <td>47.28%</td>\n",
       "    </tr>\n",
       "    <tr>\n",
       "      <th>3</th>\n",
       "      <td>24.24%</td>\n",
       "    </tr>\n",
       "  </tbody>\n",
       "</table>\n",
       "</div>"
      ],
      "text/plain": [
       "       Survived\n",
       "Pclass         \n",
       "1        62.96%\n",
       "2        47.28%\n",
       "3        24.24%"
      ]
     },
     "execution_count": 164,
     "metadata": {},
     "output_type": "execute_result"
    }
   ],
   "source": [
    "df.groupby(['Pclass']).agg({'Survived':lambda x: f\"{round(100*sum(x == 1)/ len(x), 2)}%\"})"
   ]
  },
  {
   "cell_type": "markdown",
   "id": "0fc3a8b1",
   "metadata": {},
   "source": [
    "________\n",
    "### Выжил или нет в зависимости от пола и возраста"
   ]
  },
  {
   "cell_type": "code",
   "execution_count": 165,
   "id": "07fe8612",
   "metadata": {
    "ExecuteTime": {
     "end_time": "2022-06-21T03:17:41.682851Z",
     "start_time": "2022-06-21T03:17:41.555126Z"
    }
   },
   "outputs": [
    {
     "data": {
      "image/png": "[encoded data removed]",
      "text/plain": [
       "<Figure size 1095.12x774.072 with 1 Axes>"
      ]
     },
     "metadata": {},
     "output_type": "display_data"
    }
   ],
   "source": [
    "sns.histplot(df, x='Sex',hue='Survived', stat=\"density\" );"
   ]
  },
  {
   "cell_type": "markdown",
   "id": "4cde14bf",
   "metadata": {},
   "source": [
    "#### видно, что женщины предпочтительнее выживают"
   ]
  },
  {
   "cell_type": "markdown",
   "id": "ffd306fd",
   "metadata": {},
   "source": [
    "________\n",
    "### Как зависят количество родственников от выживаеомсти"
   ]
  },
  {
   "cell_type": "code",
   "execution_count": 169,
   "id": "1ed47c22",
   "metadata": {
    "ExecuteTime": {
     "end_time": "2022-06-21T03:18:55.747170Z",
     "start_time": "2022-06-21T03:18:55.735254Z"
    }
   },
   "outputs": [
    {
     "data": {
      "text/html": [
       "<div>\n",
       "<style scoped>\n",
       "    .dataframe tbody tr th:only-of-type {\n",
       "        vertical-align: middle;\n",
       "    }\n",
       "\n",
       "    .dataframe tbody tr th {\n",
       "        vertical-align: top;\n",
       "    }\n",
       "\n",
       "    .dataframe thead th {\n",
       "        text-align: right;\n",
       "    }\n",
       "</style>\n",
       "<table border=\"1\" class=\"dataframe\">\n",
       "  <thead>\n",
       "    <tr style=\"text-align: right;\">\n",
       "      <th></th>\n",
       "      <th>Survived</th>\n",
       "    </tr>\n",
       "    <tr>\n",
       "      <th>SibSp</th>\n",
       "      <th></th>\n",
       "    </tr>\n",
       "  </thead>\n",
       "  <tbody>\n",
       "    <tr>\n",
       "      <th>0</th>\n",
       "      <td>34.54%</td>\n",
       "    </tr>\n",
       "    <tr>\n",
       "      <th>1</th>\n",
       "      <td>53.59%</td>\n",
       "    </tr>\n",
       "    <tr>\n",
       "      <th>2</th>\n",
       "      <td>46.43%</td>\n",
       "    </tr>\n",
       "    <tr>\n",
       "      <th>3</th>\n",
       "      <td>25.0%</td>\n",
       "    </tr>\n",
       "    <tr>\n",
       "      <th>4</th>\n",
       "      <td>16.67%</td>\n",
       "    </tr>\n",
       "    <tr>\n",
       "      <th>5</th>\n",
       "      <td>0.0%</td>\n",
       "    </tr>\n",
       "    <tr>\n",
       "      <th>8</th>\n",
       "      <td>0.0%</td>\n",
       "    </tr>\n",
       "  </tbody>\n",
       "</table>\n",
       "</div>"
      ],
      "text/plain": [
       "      Survived\n",
       "SibSp         \n",
       "0       34.54%\n",
       "1       53.59%\n",
       "2       46.43%\n",
       "3        25.0%\n",
       "4       16.67%\n",
       "5         0.0%\n",
       "8         0.0%"
      ]
     },
     "execution_count": 169,
     "metadata": {},
     "output_type": "execute_result"
    }
   ],
   "source": [
    "df.groupby(['SibSp']).agg({'Survived':lambda x: f\"{round(100*sum(x == 1)/ len(x), 2)}%\"})"
   ]
  },
  {
   "cell_type": "markdown",
   "id": "ad25f0a6",
   "metadata": {},
   "source": [
    "### Зависимость возраста, цены от выживыаемости в классах"
   ]
  },
  {
   "cell_type": "code",
   "execution_count": 180,
   "id": "d8dad77d",
   "metadata": {
    "ExecuteTime": {
     "end_time": "2022-06-21T03:27:36.831171Z",
     "start_time": "2022-06-21T03:27:36.806673Z"
    }
   },
   "outputs": [
    {
     "data": {
      "text/html": [
       "<div>\n",
       "<style scoped>\n",
       "    .dataframe tbody tr th:only-of-type {\n",
       "        vertical-align: middle;\n",
       "    }\n",
       "\n",
       "    .dataframe tbody tr th {\n",
       "        vertical-align: top;\n",
       "    }\n",
       "\n",
       "    .dataframe thead tr th {\n",
       "        text-align: left;\n",
       "    }\n",
       "\n",
       "    .dataframe thead tr:last-of-type th {\n",
       "        text-align: right;\n",
       "    }\n",
       "</style>\n",
       "<table border=\"1\" class=\"dataframe\">\n",
       "  <thead>\n",
       "    <tr>\n",
       "      <th></th>\n",
       "      <th></th>\n",
       "      <th colspan=\"2\" halign=\"left\">Age</th>\n",
       "      <th colspan=\"2\" halign=\"left\">Fare</th>\n",
       "    </tr>\n",
       "    <tr>\n",
       "      <th></th>\n",
       "      <th></th>\n",
       "      <th>mean</th>\n",
       "      <th>median</th>\n",
       "      <th>mean</th>\n",
       "      <th>median</th>\n",
       "    </tr>\n",
       "    <tr>\n",
       "      <th>Pclass</th>\n",
       "      <th>Survived</th>\n",
       "      <th></th>\n",
       "      <th></th>\n",
       "      <th></th>\n",
       "      <th></th>\n",
       "    </tr>\n",
       "  </thead>\n",
       "  <tbody>\n",
       "    <tr>\n",
       "      <th rowspan=\"2\" valign=\"top\">1</th>\n",
       "      <th>0</th>\n",
       "      <td>43.70</td>\n",
       "      <td>45.25</td>\n",
       "      <td>64.68</td>\n",
       "      <td>44.75</td>\n",
       "    </tr>\n",
       "    <tr>\n",
       "      <th>1</th>\n",
       "      <td>35.37</td>\n",
       "      <td>35.00</td>\n",
       "      <td>95.61</td>\n",
       "      <td>77.96</td>\n",
       "    </tr>\n",
       "    <tr>\n",
       "      <th rowspan=\"2\" valign=\"top\">2</th>\n",
       "      <th>0</th>\n",
       "      <td>33.54</td>\n",
       "      <td>30.50</td>\n",
       "      <td>19.41</td>\n",
       "      <td>13.00</td>\n",
       "    </tr>\n",
       "    <tr>\n",
       "      <th>1</th>\n",
       "      <td>25.90</td>\n",
       "      <td>28.00</td>\n",
       "      <td>22.06</td>\n",
       "      <td>21.00</td>\n",
       "    </tr>\n",
       "    <tr>\n",
       "      <th rowspan=\"2\" valign=\"top\">3</th>\n",
       "      <th>0</th>\n",
       "      <td>26.56</td>\n",
       "      <td>25.00</td>\n",
       "      <td>13.67</td>\n",
       "      <td>8.05</td>\n",
       "    </tr>\n",
       "    <tr>\n",
       "      <th>1</th>\n",
       "      <td>20.65</td>\n",
       "      <td>22.00</td>\n",
       "      <td>13.69</td>\n",
       "      <td>8.52</td>\n",
       "    </tr>\n",
       "  </tbody>\n",
       "</table>\n",
       "</div>"
      ],
      "text/plain": [
       "                   Age          Fare       \n",
       "                  mean median   mean median\n",
       "Pclass Survived                            \n",
       "1      0         43.70  45.25  64.68  44.75\n",
       "       1         35.37  35.00  95.61  77.96\n",
       "2      0         33.54  30.50  19.41  13.00\n",
       "       1         25.90  28.00  22.06  21.00\n",
       "3      0         26.56  25.00  13.67   8.05\n",
       "       1         20.65  22.00  13.69   8.52"
      ]
     },
     "execution_count": 180,
     "metadata": {},
     "output_type": "execute_result"
    }
   ],
   "source": [
    "df.groupby(['Pclass', 'Survived']).agg({'Age':['mean', 'median'], 'Fare':['mean', 'median']}).round(2)"
   ]
  },
  {
   "cell_type": "markdown",
   "id": "dc36fd91",
   "metadata": {},
   "source": [
    "#### Можно сделать вывод, что лучше выживают более богатые, а также более молодые"
   ]
  },
  {
   "cell_type": "code",
   "execution_count": 182,
   "id": "70d4ec78",
   "metadata": {
    "ExecuteTime": {
     "end_time": "2022-06-21T03:37:15.508263Z",
     "start_time": "2022-06-21T03:37:15.361549Z"
    }
   },
   "outputs": [
    {
     "data": {
      "text/html": [
       "<div>\n",
       "<style scoped>\n",
       "    .dataframe tbody tr th:only-of-type {\n",
       "        vertical-align: middle;\n",
       "    }\n",
       "\n",
       "    .dataframe tbody tr th {\n",
       "        vertical-align: top;\n",
       "    }\n",
       "\n",
       "    .dataframe thead th {\n",
       "        text-align: right;\n",
       "    }\n",
       "</style>\n",
       "<table border=\"1\" class=\"dataframe\">\n",
       "  <thead>\n",
       "    <tr style=\"text-align: right;\">\n",
       "      <th></th>\n",
       "      <th>Survived</th>\n",
       "    </tr>\n",
       "    <tr>\n",
       "      <th>Embarked</th>\n",
       "      <th></th>\n",
       "    </tr>\n",
       "  </thead>\n",
       "  <tbody>\n",
       "    <tr>\n",
       "      <th>C</th>\n",
       "      <td>55.36%</td>\n",
       "    </tr>\n",
       "    <tr>\n",
       "      <th>Q</th>\n",
       "      <td>38.96%</td>\n",
       "    </tr>\n",
       "    <tr>\n",
       "      <th>S</th>\n",
       "      <td>33.7%</td>\n",
       "    </tr>\n",
       "  </tbody>\n",
       "</table>\n",
       "</div>"
      ],
      "text/plain": [
       "         Survived\n",
       "Embarked         \n",
       "C          55.36%\n",
       "Q          38.96%\n",
       "S           33.7%"
      ]
     },
     "execution_count": 182,
     "metadata": {},
     "output_type": "execute_result"
    },
    {
     "data": {
      "image/png": "[encoded data removed]",
      "text/plain": [
       "<Figure size 1095.12x774.072 with 1 Axes>"
      ]
     },
     "metadata": {},
     "output_type": "display_data"
    }
   ],
   "source": [
    "sns.histplot(df, x='Embarked',hue='Survived', stat=\"density\" )\n",
    "df.groupby(['Embarked']).agg({'Survived':lambda x: f\"{round(100*sum(x == 1)/ len(x), 2)}%\"})"
   ]
  },
  {
   "cell_type": "markdown",
   "id": "7c767b2c",
   "metadata": {},
   "source": [
    "#### люди, севшие в C выживут с вероятностью 55%"
   ]
  },
  {
   "cell_type": "code",
   "execution_count": 196,
   "id": "7ff490fa",
   "metadata": {
    "ExecuteTime": {
     "end_time": "2022-06-21T03:42:23.290898Z",
     "start_time": "2022-06-21T03:42:23.279197Z"
    }
   },
   "outputs": [
    {
     "data": {
      "text/html": [
       "<div>\n",
       "<style scoped>\n",
       "    .dataframe tbody tr th:only-of-type {\n",
       "        vertical-align: middle;\n",
       "    }\n",
       "\n",
       "    .dataframe tbody tr th {\n",
       "        vertical-align: top;\n",
       "    }\n",
       "\n",
       "    .dataframe thead th {\n",
       "        text-align: right;\n",
       "    }\n",
       "</style>\n",
       "<table border=\"1\" class=\"dataframe\">\n",
       "  <thead>\n",
       "    <tr style=\"text-align: right;\">\n",
       "      <th></th>\n",
       "      <th></th>\n",
       "      <th>PassengerId</th>\n",
       "    </tr>\n",
       "    <tr>\n",
       "      <th>Pclass</th>\n",
       "      <th>Embarked</th>\n",
       "      <th></th>\n",
       "    </tr>\n",
       "  </thead>\n",
       "  <tbody>\n",
       "    <tr>\n",
       "      <th rowspan=\"3\" valign=\"top\">1</th>\n",
       "      <th>C</th>\n",
       "      <td>85</td>\n",
       "    </tr>\n",
       "    <tr>\n",
       "      <th>Q</th>\n",
       "      <td>2</td>\n",
       "    </tr>\n",
       "    <tr>\n",
       "      <th>S</th>\n",
       "      <td>127</td>\n",
       "    </tr>\n",
       "    <tr>\n",
       "      <th rowspan=\"3\" valign=\"top\">2</th>\n",
       "      <th>C</th>\n",
       "      <td>17</td>\n",
       "    </tr>\n",
       "    <tr>\n",
       "      <th>Q</th>\n",
       "      <td>3</td>\n",
       "    </tr>\n",
       "    <tr>\n",
       "      <th>S</th>\n",
       "      <td>164</td>\n",
       "    </tr>\n",
       "    <tr>\n",
       "      <th rowspan=\"3\" valign=\"top\">3</th>\n",
       "      <th>C</th>\n",
       "      <td>66</td>\n",
       "    </tr>\n",
       "    <tr>\n",
       "      <th>Q</th>\n",
       "      <td>72</td>\n",
       "    </tr>\n",
       "    <tr>\n",
       "      <th>S</th>\n",
       "      <td>353</td>\n",
       "    </tr>\n",
       "  </tbody>\n",
       "</table>\n",
       "</div>"
      ],
      "text/plain": [
       "                 PassengerId\n",
       "Pclass Embarked             \n",
       "1      C                  85\n",
       "       Q                   2\n",
       "       S                 127\n",
       "2      C                  17\n",
       "       Q                   3\n",
       "       S                 164\n",
       "3      C                  66\n",
       "       Q                  72\n",
       "       S                 353"
      ]
     },
     "execution_count": 196,
     "metadata": {},
     "output_type": "execute_result"
    }
   ],
   "source": [
    "df.groupby(['Pclass', 'Embarked']).agg({'PassengerId':'count'})"
   ]
  },
  {
   "cell_type": "markdown",
   "id": "d3407bd5",
   "metadata": {},
   "source": [
    "# Обработка признаков"
   ]
  },
  {
   "cell_type": "code",
   "execution_count": 151,
   "id": "ddf8292c",
   "metadata": {
    "ExecuteTime": {
     "end_time": "2022-06-21T03:14:59.629688Z",
     "start_time": "2022-06-21T03:14:59.621001Z"
    }
   },
   "outputs": [],
   "source": [
    "def claster_fillna(df, name_feature):\n",
    "    #scaler = preprocessing.StandardScaler()\n",
    "    index_feature = df.columns.tolist().index(name_feature)    \n",
    "    #standardized_feature = scaler.fit_transform(df)\n",
    "\n",
    "    impute_feature = KNN(k=2, verbose=0).fit_transform(df)[:, index_feature]\n",
    "    return impute_feature\n",
    "\n",
    "\n",
    "cols_cat =['Pclass', 'Sex', 'SibSp', 'Embarked', 'Ticket_duplicate', 'Ticket','Cabin', 'Cabin_count_psng']#Cabin_distance\n",
    "cols_txt = ['Name']\n",
    "\n",
    "# 22.86 Растояние от палубы, на которой находились спасательные шлюпки до нижнего жилого этажа\n",
    "# 7 - количество жилых этажей\n",
    "l = 22.86/7\n",
    "distance_to_deck = {'A':l , 'B':2*l , 'C':3*l , 'D':4*l , 'F':5*l , 'E':6*l , 'G':7*l }\n",
    "\n",
    "def clear_df(df):\n",
    "    # создание признака, показывающий расстояние до верхней палубы\n",
    "    df['Cabin_distance'] = df['Cabin'].apply(lambda x: distance_to_deck.get(str(x)[0], np.nan))\n",
    "    # признак - состоит ли билет только из цифр\n",
    "    df['Ticket_onlynum'] = df['Ticket'].apply(lambda x: int(x.isdigit()))\n",
    "    # дубликатный ли билет (0 - нет, 1-да)\n",
    "    df['Ticket_duplicate'] = df['Ticket'].duplicated().astype(int)\n",
    "    # количество пассажиров в кабине\n",
    "    df['Cabin_count_psng'] = df['Cabin'].astype(str).map(lambda x: len(x.split(' ')))\n",
    "    # \n",
    "    df['Embarked'] = df['Embarked'].apply(lambda x: {'S':0, 'C':1, 'Q':2}.get(x, -1))\n",
    "    df['Sex'] = df['Sex'].apply(lambda x: {'male':0, 'female':1}.get(x, -1))\n",
    "    \n",
    "    df['Cabin_distance'] = claster_fillna(df.drop(columns=['Name', 'Ticket', 'Cabin', 'Embarked', 'PassengerId']), 'Cabin_distance')\n",
    "    \n",
    "    df = df.drop(columns=['PassengerId'])\n",
    "    df[['Fare', 'Parch']] = df[['Fare', 'Parch']].fillna(-1)\n",
    "    df[['Fare', 'Parch']] = df[['Fare', 'Parch']].astype(int)\n",
    "    \n",
    "    # Названия с очень низким количеством ячеек будут объединены до уровня \"редкие\"\n",
    "    rare_titles = ['Dona', 'Lady', 'the Countess','Capt', 'Col', 'Don', 'Dr', 'Major', 'Rev', 'Sir', 'Jonkheer']\n",
    "    df['Name'].replace(rare_titles, \"Rare title\", inplace=True)\n",
    "    # \"Mlle\",\"Ms\", \"Mme\" переводим в шкалу \"Miss\", \"Mrs\"\n",
    "    df['Name'].replace([\"Mlle\",\"Ms\", \"Mme\"], [\"Miss\", \"Miss\", \"Mrs\"], inplace=True)\n",
    "    \n",
    "    #df['Words_in_name'] = df['Name'].str.findall('[A-Za-z]+').apply(len)\n",
    "    # берем только имя\n",
    "    #df['Name'] = df['Name'].apply(lambda x: x.split(',')[0].strip())\n",
    "\n",
    "    \n",
    "    df[cols_cat] = df[cols_cat].fillna('')\n",
    "    df[cols_txt] = df[cols_txt].fillna('')\n",
    "    df[cols_cat] = df[cols_cat].astype(str)\n",
    "    df[cols_txt] = df[cols_txt].astype(str)\n",
    "    return df"
   ]
  },
  {
   "cell_type": "code",
   "execution_count": 152,
   "id": "d49ad73b",
   "metadata": {
    "ExecuteTime": {
     "end_time": "2022-06-21T03:15:00.285793Z",
     "start_time": "2022-06-21T03:15:00.116881Z"
    }
   },
   "outputs": [],
   "source": [
    "df_target = df.pop('Survived')\n",
    "df = clear_df(df)\n",
    "df_test = clear_df(df_test)"
   ]
  },
  {
   "cell_type": "markdown",
   "id": "297cbc7b",
   "metadata": {},
   "source": [
    "## Индексы категориальных и текстовых фичей"
   ]
  },
  {
   "cell_type": "code",
   "execution_count": 153,
   "id": "81ecfb9c",
   "metadata": {
    "ExecuteTime": {
     "end_time": "2022-06-21T03:15:04.750448Z",
     "start_time": "2022-06-21T03:15:04.745114Z"
    }
   },
   "outputs": [],
   "source": [
    "cat_ind = [i for i, col in enumerate(df.columns) if col in cols_cat]\n",
    "text_ind = [i for i, col in enumerate(df.columns) if col in cols_txt]"
   ]
  },
  {
   "cell_type": "markdown",
   "id": "19d63511",
   "metadata": {},
   "source": [
    "## Разделение на тесотвую и валидационную подвыборки"
   ]
  },
  {
   "cell_type": "code",
   "execution_count": 154,
   "id": "5ae9874b",
   "metadata": {
    "ExecuteTime": {
     "end_time": "2022-06-21T03:15:05.399150Z",
     "start_time": "2022-06-21T03:15:05.391703Z"
    }
   },
   "outputs": [],
   "source": [
    "X_train, X_test, y_train, y_test = train_test_split(df.values,\n",
    "                                                    df_target.values,\n",
    "                                                    train_size=0.8,\n",
    "                                                    random_state=42)"
   ]
  },
  {
   "cell_type": "markdown",
   "id": "6ae93960",
   "metadata": {},
   "source": [
    "# Обучение модели"
   ]
  },
  {
   "cell_type": "code",
   "execution_count": 155,
   "id": "b9936766",
   "metadata": {
    "ExecuteTime": {
     "end_time": "2022-06-21T03:16:05.956230Z",
     "start_time": "2022-06-21T03:15:05.992310Z"
    }
   },
   "outputs": [
    {
     "data": {
      "application/vnd.jupyter.widget-view+json": {
       "model_id": "2738ded594b049e09d9c69ce7ac74d9f",
       "version_major": 2,
       "version_minor": 0
      },
      "text/plain": [
       "MetricVisualizer(layout=Layout(align_self='stretch', height='500px'))"
      ]
     },
     "metadata": {},
     "output_type": "display_data"
    },
    {
     "data": {
      "text/plain": [
       "<catboost.core.CatBoostClassifier at 0x7f17c78160f0>"
      ]
     },
     "execution_count": 155,
     "metadata": {},
     "output_type": "execute_result"
    }
   ],
   "source": [
    "model = CatBoostClassifier(iterations=10000,\n",
    "                           learning_rate=0.0005,\n",
    "                           l2_leaf_reg=0.1,\n",
    "                           random_seed=42,\n",
    "                           eval_metric='Accuracy',\n",
    "                           use_best_model=True,\n",
    "                           #od_type='Iter',\n",
    "                           #od_wait=200,\n",
    "                           bagging_temperature=0.5,\n",
    "                           verbose=False)\n",
    "\n",
    "model.fit(\n",
    "    X_train,\n",
    "    y_train,\n",
    "    eval_set=(X_test, y_test),\n",
    "    cat_features=cat_ind,\n",
    "    text_features=text_ind,\n",
    "    plot=True\n",
    ")"
   ]
  },
  {
   "cell_type": "markdown",
   "id": "440f1520",
   "metadata": {},
   "source": [
    "## Точность на валидационной подвыборке"
   ]
  },
  {
   "cell_type": "code",
   "execution_count": 156,
   "id": "1ab50f8b",
   "metadata": {
    "ExecuteTime": {
     "end_time": "2022-06-21T03:16:08.951688Z",
     "start_time": "2022-06-21T03:16:08.942484Z"
    }
   },
   "outputs": [
    {
     "data": {
      "text/plain": [
       "0.8379888268156425"
      ]
     },
     "execution_count": 156,
     "metadata": {},
     "output_type": "execute_result"
    }
   ],
   "source": [
    "accuracy_score( y_test, model.predict(X_test) )"
   ]
  },
  {
   "cell_type": "code",
   "execution_count": 157,
   "id": "7db51945",
   "metadata": {
    "ExecuteTime": {
     "end_time": "2022-06-21T03:16:13.802000Z",
     "start_time": "2022-06-21T03:16:13.795423Z"
    }
   },
   "outputs": [
    {
     "data": {
      "text/plain": [
       "[(0.33378176608483306, 'Ticket_onlynum'),\n",
       " (0.4471405377710139, 'Ticket_duplicate'),\n",
       " (0.6991151322424781, 'Parch'),\n",
       " (2.0759861858986444, 'Cabin_distance'),\n",
       " (2.3408482337102203, 'Cabin_count_psng'),\n",
       " (2.6469387845298034, 'Age'),\n",
       " (2.827243269140473, 'Fare'),\n",
       " (4.482518989440543, 'Embarked'),\n",
       " (4.976055240634605, 'SibSp'),\n",
       " (6.961213028749372, 'Cabin'),\n",
       " (10.160486516365953, 'Pclass'),\n",
       " (13.270773559466509, 'Ticket'),\n",
       " (15.759100578280112, 'Sex'),\n",
       " (33.018798177685625, 'Name')]"
      ]
     },
     "execution_count": 157,
     "metadata": {},
     "output_type": "execute_result"
    }
   ],
   "source": [
    "sorted(list(zip(full_model.feature_importances_, df.columns)), key=lambda x:x[0])"
   ]
  },
  {
   "cell_type": "code",
   "execution_count": 79,
   "id": "ca4c7b2f",
   "metadata": {
    "ExecuteTime": {
     "end_time": "2022-06-21T02:31:33.779673Z",
     "start_time": "2022-06-21T02:31:33.773461Z"
    }
   },
   "outputs": [
    {
     "data": {
      "text/plain": [
       "{'bagging_temperature': 0.5,\n",
       " 'eval_metric': 'Accuracy',\n",
       " 'verbose': False,\n",
       " 'use_best_model': True,\n",
       " 'random_seed': 42,\n",
       " 'l2_leaf_reg': 0.1,\n",
       " 'learning_rate': 0.0005,\n",
       " 'iterations': 10000}"
      ]
     },
     "execution_count": 79,
     "metadata": {},
     "output_type": "execute_result"
    }
   ],
   "source": [
    "model.get_params()"
   ]
  },
  {
   "cell_type": "markdown",
   "id": "96512410",
   "metadata": {},
   "source": [
    "# Обучение на полных данных"
   ]
  },
  {
   "cell_type": "code",
   "execution_count": 80,
   "id": "5779f96e",
   "metadata": {
    "ExecuteTime": {
     "end_time": "2022-06-21T02:32:33.810385Z",
     "start_time": "2022-06-21T02:31:34.644095Z"
    }
   },
   "outputs": [
    {
     "data": {
      "text/plain": [
       "<catboost.core.CatBoostClassifier at 0x7f17fea90630>"
      ]
     },
     "execution_count": 80,
     "metadata": {},
     "output_type": "execute_result"
    }
   ],
   "source": [
    "full_model = CatBoostClassifier(**model.get_params())\n",
    "\n",
    "full_model.fit(\n",
    "    df.values,\n",
    "    df_target.values,\n",
    "    eval_set=(X_test, y_test),\n",
    "    cat_features=cat_ind,\n",
    "    text_features=text_ind,\n",
    ")"
   ]
  },
  {
   "cell_type": "markdown",
   "id": "cb651a02",
   "metadata": {},
   "source": [
    "##  Сохранение предсказаний для kaggle"
   ]
  },
  {
   "cell_type": "code",
   "execution_count": 81,
   "id": "9b9c1d84",
   "metadata": {
    "ExecuteTime": {
     "end_time": "2022-06-21T02:32:33.896960Z",
     "start_time": "2022-06-21T02:32:33.884400Z"
    }
   },
   "outputs": [],
   "source": [
    "predicts = full_model.predict(df_test.values)\n",
    "df_sub = pd.read_csv('./data/titanic/gender_submission.csv')\n",
    "df_sub['Survived'] = predicts\n",
    "df_sub.to_csv('gender_submission.csv', index=False)"
   ]
  }
 ],
 "metadata": {
  "kernelspec": {
   "display_name": "Python 3",
   "language": "python",
   "name": "python3"
  },
  "language_info": {
   "codemirror_mode": {
    "name": "ipython",
    "version": 3
   },
   "file_extension": ".py",
   "mimetype": "text/x-python",
   "name": "python",
   "nbconvert_exporter": "python",
   "pygments_lexer": "ipython3",
   "version": "3.6.9"
  },
  "varInspector": {
   "cols": {
    "lenName": 16,
    "lenType": 16,
    "lenVar": 40
   },
   "kernels_config": {
    "python": {
     "delete_cmd_postfix": "",
     "delete_cmd_prefix": "del ",
     "library": "var_list.py",
     "varRefreshCmd": "print(var_dic_list())"
    },
    "r": {
     "delete_cmd_postfix": ") ",
     "delete_cmd_prefix": "rm(",
     "library": "var_list.r",
     "varRefreshCmd": "cat(var_dic_list()) "
    }
   },
   "oldHeight": 221.846364,
   "position": {
    "height": "243.821px",
    "left": "1041.44px",
    "right": "20px",
    "top": "43.9773px",
    "width": "529.006px"
   },
   "types_to_exclude": [
    "module",
    "function",
    "builtin_function_or_method",
    "instance",
    "_Feature"
   ],
   "varInspector_section_display": "block",
   "window_display": false
  },
  "widgets": {
   "application/vnd.jupyter.widget-state+json": {
    "state": {},
    "version_major": 2,
    "version_minor": 0
   }
  }
 },
 "nbformat": 4,
 "nbformat_minor": 5
}
