{
 "cells": [
  {
   "cell_type": "code",
   "execution_count": 2,
   "id": "9bda6359",
   "metadata": {
    "ExecuteTime": {
     "end_time": "2022-06-26T00:30:27.793293Z",
     "start_time": "2022-06-26T00:30:26.898345Z"
    }
   },
   "outputs": [],
   "source": [
    "# Визуализация\n",
    "import missingno as msn\n",
    "import matplotlib.pyplot as plt\n",
    "import seaborn as sns\n",
    "sns.set()\n",
    "sns.set(rc={'figure.figsize':(11.7*1.3, 8.27*1.3)})\n",
    "sns.set_theme(style=\"whitegrid\", palette=\"deep\") #pastel\n",
    "sns.set_context(\"paper\", font_scale=1.5)\n",
    "\n",
    "# для стат тестов\n",
    "from scipy import stats\n",
    "\n",
    "# Работа с данными\n",
    "import numpy as np\n",
    "import pandas as pd\n",
    "\n",
    "# Для заполнения пропущенных щначений\n",
    "from fancyimpute import KNN\n",
    "\n",
    "# Для машинного обучения\n",
    "from catboost import CatBoostClassifier\n",
    "from sklearn.model_selection import train_test_split\n",
    "from sklearn import preprocessing\n",
    "from sklearn.metrics import accuracy_score\n"
   ]
  },
  {
   "cell_type": "code",
   "execution_count": 3,
   "id": "328a2e04",
   "metadata": {
    "ExecuteTime": {
     "end_time": "2022-06-26T00:30:27.834839Z",
     "start_time": "2022-06-26T00:30:27.805497Z"
    }
   },
   "outputs": [
    {
     "data": {
      "text/html": [
       "<div>\n",
       "<style scoped>\n",
       "    .dataframe tbody tr th:only-of-type {\n",
       "        vertical-align: middle;\n",
       "    }\n",
       "\n",
       "    .dataframe tbody tr th {\n",
       "        vertical-align: top;\n",
       "    }\n",
       "\n",
       "    .dataframe thead th {\n",
       "        text-align: right;\n",
       "    }\n",
       "</style>\n",
       "<table border=\"1\" class=\"dataframe\">\n",
       "  <thead>\n",
       "    <tr style=\"text-align: right;\">\n",
       "      <th></th>\n",
       "      <th>PassengerId</th>\n",
       "      <th>Survived</th>\n",
       "      <th>Pclass</th>\n",
       "      <th>Name</th>\n",
       "      <th>Sex</th>\n",
       "      <th>Age</th>\n",
       "      <th>SibSp</th>\n",
       "      <th>Parch</th>\n",
       "      <th>Ticket</th>\n",
       "      <th>Fare</th>\n",
       "      <th>Cabin</th>\n",
       "      <th>Embarked</th>\n",
       "    </tr>\n",
       "  </thead>\n",
       "  <tbody>\n",
       "    <tr>\n",
       "      <th>0</th>\n",
       "      <td>1</td>\n",
       "      <td>0</td>\n",
       "      <td>3</td>\n",
       "      <td>Braund, Mr. Owen Harris</td>\n",
       "      <td>male</td>\n",
       "      <td>22.0</td>\n",
       "      <td>1</td>\n",
       "      <td>0</td>\n",
       "      <td>A/5 21171</td>\n",
       "      <td>7.2500</td>\n",
       "      <td>NaN</td>\n",
       "      <td>S</td>\n",
       "    </tr>\n",
       "    <tr>\n",
       "      <th>1</th>\n",
       "      <td>2</td>\n",
       "      <td>1</td>\n",
       "      <td>1</td>\n",
       "      <td>Cumings, Mrs. John Bradley (Florence Briggs Th...</td>\n",
       "      <td>female</td>\n",
       "      <td>38.0</td>\n",
       "      <td>1</td>\n",
       "      <td>0</td>\n",
       "      <td>PC 17599</td>\n",
       "      <td>71.2833</td>\n",
       "      <td>C85</td>\n",
       "      <td>C</td>\n",
       "    </tr>\n",
       "    <tr>\n",
       "      <th>2</th>\n",
       "      <td>3</td>\n",
       "      <td>1</td>\n",
       "      <td>3</td>\n",
       "      <td>Heikkinen, Miss. Laina</td>\n",
       "      <td>female</td>\n",
       "      <td>26.0</td>\n",
       "      <td>0</td>\n",
       "      <td>0</td>\n",
       "      <td>STON/O2. 3101282</td>\n",
       "      <td>7.9250</td>\n",
       "      <td>NaN</td>\n",
       "      <td>S</td>\n",
       "    </tr>\n",
       "    <tr>\n",
       "      <th>3</th>\n",
       "      <td>4</td>\n",
       "      <td>1</td>\n",
       "      <td>1</td>\n",
       "      <td>Futrelle, Mrs. Jacques Heath (Lily May Peel)</td>\n",
       "      <td>female</td>\n",
       "      <td>35.0</td>\n",
       "      <td>1</td>\n",
       "      <td>0</td>\n",
       "      <td>113803</td>\n",
       "      <td>53.1000</td>\n",
       "      <td>C123</td>\n",
       "      <td>S</td>\n",
       "    </tr>\n",
       "    <tr>\n",
       "      <th>4</th>\n",
       "      <td>5</td>\n",
       "      <td>0</td>\n",
       "      <td>3</td>\n",
       "      <td>Allen, Mr. William Henry</td>\n",
       "      <td>male</td>\n",
       "      <td>35.0</td>\n",
       "      <td>0</td>\n",
       "      <td>0</td>\n",
       "      <td>373450</td>\n",
       "      <td>8.0500</td>\n",
       "      <td>NaN</td>\n",
       "      <td>S</td>\n",
       "    </tr>\n",
       "  </tbody>\n",
       "</table>\n",
       "</div>"
      ],
      "text/plain": [
       "   PassengerId  Survived  Pclass  \\\n",
       "0            1         0       3   \n",
       "1            2         1       1   \n",
       "2            3         1       3   \n",
       "3            4         1       1   \n",
       "4            5         0       3   \n",
       "\n",
       "                                                Name     Sex   Age  SibSp  \\\n",
       "0                            Braund, Mr. Owen Harris    male  22.0      1   \n",
       "1  Cumings, Mrs. John Bradley (Florence Briggs Th...  female  38.0      1   \n",
       "2                             Heikkinen, Miss. Laina  female  26.0      0   \n",
       "3       Futrelle, Mrs. Jacques Heath (Lily May Peel)  female  35.0      1   \n",
       "4                           Allen, Mr. William Henry    male  35.0      0   \n",
       "\n",
       "   Parch            Ticket     Fare Cabin Embarked  \n",
       "0      0         A/5 21171   7.2500   NaN        S  \n",
       "1      0          PC 17599  71.2833   C85        C  \n",
       "2      0  STON/O2. 3101282   7.9250   NaN        S  \n",
       "3      0            113803  53.1000  C123        S  \n",
       "4      0            373450   8.0500   NaN        S  "
      ]
     },
     "execution_count": 3,
     "metadata": {},
     "output_type": "execute_result"
    }
   ],
   "source": [
    "df = pd.read_csv('./data/titanic/train.csv')\n",
    "df.head()"
   ]
  },
  {
   "cell_type": "markdown",
   "id": "7f7ca5d1",
   "metadata": {},
   "source": [
    "# Анализ признаков"
   ]
  },
  {
   "cell_type": "markdown",
   "id": "6842069a",
   "metadata": {},
   "source": [
    "### Посмотрим на целевой признак"
   ]
  },
  {
   "cell_type": "code",
   "execution_count": 4,
   "id": "44cc5060",
   "metadata": {
    "ExecuteTime": {
     "end_time": "2022-06-26T00:30:27.953532Z",
     "start_time": "2022-06-26T00:30:27.870561Z"
    }
   },
   "outputs": [
    {
     "data": {
      "image/png": "[encoded data removed]",
      "text/plain": [
       "<Figure size 1095.12x774.072 with 1 Axes>"
      ]
     },
     "metadata": {},
     "output_type": "display_data"
    }
   ],
   "source": [
    "colors = sns.color_palette('pastel')[0:5]\n",
    "df_temp = df['Survived'].value_counts()\n",
    "plt.pie(df_temp, labels =('Умерших', 'Выживших') , colors = colors, autopct='%.0f%%')\n",
    "plt.title('Целевой признак')\n",
    "plt.show()"
   ]
  },
  {
   "cell_type": "markdown",
   "id": "5e9f14a0",
   "metadata": {},
   "source": [
    "#### Два значения в целевом признаке. Следовательно решается задача бинарной классификации.\n",
    "#### Классы не сбалансированы. При использовании метрики accuracy случайная модель будет иметь точность примерно 62%"
   ]
  },
  {
   "cell_type": "markdown",
   "id": "16157d1f",
   "metadata": {},
   "source": [
    "__________\n",
    "### Посмотрим на пропущеные значения"
   ]
  },
  {
   "cell_type": "code",
   "execution_count": 5,
   "id": "71c7133d",
   "metadata": {
    "ExecuteTime": {
     "end_time": "2022-06-26T00:30:28.252895Z",
     "start_time": "2022-06-26T00:30:28.031649Z"
    }
   },
   "outputs": [
    {
     "data": {
      "image/png": "[encoded data removed]",
      "text/plain": [
       "<Figure size 1800x720 with 2 Axes>"
      ]
     },
     "metadata": {},
     "output_type": "display_data"
    }
   ],
   "source": [
    "msn.matrix(df);"
   ]
  },
  {
   "cell_type": "markdown",
   "id": "8f1885fa",
   "metadata": {},
   "source": [
    "#### Признак Cabin слишком пустой\n",
    "#### В признаке Embarked пара пустых значений. Эти строки можно удалить, либо заполнить используя метод ближайших соседей"
   ]
  },
  {
   "cell_type": "markdown",
   "id": "0b20eeb6",
   "metadata": {},
   "source": [
    "__________\n",
    "### Посмотрим на уникальные значения в желаемых признаках"
   ]
  },
  {
   "cell_type": "code",
   "execution_count": 6,
   "id": "0d88bbd1",
   "metadata": {
    "ExecuteTime": {
     "end_time": "2022-06-26T00:30:28.622688Z",
     "start_time": "2022-06-26T00:30:28.469635Z"
    }
   },
   "outputs": [
    {
     "data": {
      "image/png": "[encoded data removed]",
      "text/plain": [
       "<Figure size 1800x720 with 2 Axes>"
      ]
     },
     "metadata": {},
     "output_type": "display_data"
    }
   ],
   "source": [
    "df_duplicateds = pd.DataFrame([(df[col].dropna().duplicated()).astype(int).replace(1,np.nan) for col in ['Cabin']]).T\n",
    "msn.matrix(df_duplicateds);"
   ]
  },
  {
   "cell_type": "markdown",
   "id": "2052c662",
   "metadata": {},
   "source": [
    "#### В признаке Cabin много дубликатных значений (nan игнорируются). Объяснить можно тем, что на титанике были каюты для нескольких человек."
   ]
  },
  {
   "cell_type": "code",
   "execution_count": 7,
   "id": "f566b16f",
   "metadata": {
    "ExecuteTime": {
     "end_time": "2022-06-26T00:30:29.054062Z",
     "start_time": "2022-06-26T00:30:28.827772Z"
    }
   },
   "outputs": [
    {
     "data": {
      "image/png": "[encoded data removed]",
      "text/plain": [
       "<Figure size 1800x720 with 2 Axes>"
      ]
     },
     "metadata": {},
     "output_type": "display_data"
    }
   ],
   "source": [
    "df_duplicateds = pd.DataFrame([(df[col].dropna().duplicated()).astype(int).replace(1,np.nan) for col in ['Ticket', 'Name']]).T\n",
    "msn.matrix(df_duplicateds);"
   ]
  },
  {
   "cell_type": "markdown",
   "id": "f5552f5d",
   "metadata": {},
   "source": [
    "#### В признаке Ticket много дубликатных значений"
   ]
  },
  {
   "cell_type": "markdown",
   "id": "10e6cd4d",
   "metadata": {},
   "source": [
    "__________\n",
    "### Процент выживыших для каждого класса"
   ]
  },
  {
   "cell_type": "code",
   "execution_count": 8,
   "id": "c0311810",
   "metadata": {
    "ExecuteTime": {
     "end_time": "2022-06-26T00:30:29.277156Z",
     "start_time": "2022-06-26T00:30:29.261742Z"
    }
   },
   "outputs": [
    {
     "data": {
      "text/html": [
       "<div>\n",
       "<style scoped>\n",
       "    .dataframe tbody tr th:only-of-type {\n",
       "        vertical-align: middle;\n",
       "    }\n",
       "\n",
       "    .dataframe tbody tr th {\n",
       "        vertical-align: top;\n",
       "    }\n",
       "\n",
       "    .dataframe thead th {\n",
       "        text-align: right;\n",
       "    }\n",
       "</style>\n",
       "<table border=\"1\" class=\"dataframe\">\n",
       "  <thead>\n",
       "    <tr style=\"text-align: right;\">\n",
       "      <th></th>\n",
       "      <th>Survived</th>\n",
       "    </tr>\n",
       "    <tr>\n",
       "      <th>Pclass</th>\n",
       "      <th></th>\n",
       "    </tr>\n",
       "  </thead>\n",
       "  <tbody>\n",
       "    <tr>\n",
       "      <th>1</th>\n",
       "      <td>62.96%</td>\n",
       "    </tr>\n",
       "    <tr>\n",
       "      <th>2</th>\n",
       "      <td>47.28%</td>\n",
       "    </tr>\n",
       "    <tr>\n",
       "      <th>3</th>\n",
       "      <td>24.24%</td>\n",
       "    </tr>\n",
       "  </tbody>\n",
       "</table>\n",
       "</div>"
      ],
      "text/plain": [
       "       Survived\n",
       "Pclass         \n",
       "1        62.96%\n",
       "2        47.28%\n",
       "3        24.24%"
      ]
     },
     "execution_count": 8,
     "metadata": {},
     "output_type": "execute_result"
    }
   ],
   "source": [
    "def percentage_of_survivors(x):\n",
    "    return f\"{round(100*sum(x == 1)/ len(x), 2)}%\"\n",
    "\n",
    "df.groupby(['Pclass']).agg({'Survived':percentage_of_survivors})"
   ]
  },
  {
   "cell_type": "markdown",
   "id": "e687c5e2",
   "metadata": {
    "ExecuteTime": {
     "end_time": "2022-06-21T16:06:18.113824Z",
     "start_time": "2022-06-21T16:06:17.846165Z"
    }
   },
   "source": [
    "#### Видно, чем выше класс, тем большая его часть выжила"
   ]
  },
  {
   "cell_type": "markdown",
   "id": "0fc3a8b1",
   "metadata": {},
   "source": [
    "________\n",
    "### Выжил или нет в зависимости от пола"
   ]
  },
  {
   "cell_type": "code",
   "execution_count": 9,
   "id": "07fe8612",
   "metadata": {
    "ExecuteTime": {
     "end_time": "2022-06-26T00:30:29.916612Z",
     "start_time": "2022-06-26T00:30:29.778283Z"
    }
   },
   "outputs": [
    {
     "data": {
      "text/html": [
       "<div>\n",
       "<style scoped>\n",
       "    .dataframe tbody tr th:only-of-type {\n",
       "        vertical-align: middle;\n",
       "    }\n",
       "\n",
       "    .dataframe tbody tr th {\n",
       "        vertical-align: top;\n",
       "    }\n",
       "\n",
       "    .dataframe thead th {\n",
       "        text-align: right;\n",
       "    }\n",
       "</style>\n",
       "<table border=\"1\" class=\"dataframe\">\n",
       "  <thead>\n",
       "    <tr style=\"text-align: right;\">\n",
       "      <th></th>\n",
       "      <th>Survived</th>\n",
       "    </tr>\n",
       "    <tr>\n",
       "      <th>Sex</th>\n",
       "      <th></th>\n",
       "    </tr>\n",
       "  </thead>\n",
       "  <tbody>\n",
       "    <tr>\n",
       "      <th>female</th>\n",
       "      <td>74.2%</td>\n",
       "    </tr>\n",
       "    <tr>\n",
       "      <th>male</th>\n",
       "      <td>18.89%</td>\n",
       "    </tr>\n",
       "  </tbody>\n",
       "</table>\n",
       "</div>"
      ],
      "text/plain": [
       "       Survived\n",
       "Sex            \n",
       "female    74.2%\n",
       "male     18.89%"
      ]
     },
     "execution_count": 9,
     "metadata": {},
     "output_type": "execute_result"
    },
    {
     "data": {
      "image/png": "[encoded data removed]",
      "text/plain": [
       "<Figure size 1095.12x774.072 with 1 Axes>"
      ]
     },
     "metadata": {},
     "output_type": "display_data"
    }
   ],
   "source": [
    "sns.histplot(df, x='Sex',hue='Survived', stat=\"density\" )\n",
    "df.groupby(['Sex']).agg({'Survived':percentage_of_survivors})"
   ]
  },
  {
   "cell_type": "markdown",
   "id": "4cde14bf",
   "metadata": {},
   "source": [
    "#### У женщин доля выживших значительно больше, чем у мужчин.\n",
    "#### Это логично, так как капитан коробля дал указание сажать в спасательные шлюпки сначала женщин и детей."
   ]
  },
  {
   "cell_type": "markdown",
   "id": "ffd306fd",
   "metadata": {},
   "source": [
    "________\n",
    "### Процент выживших в зависимости от количества родственников"
   ]
  },
  {
   "cell_type": "code",
   "execution_count": 10,
   "id": "1ed47c22",
   "metadata": {
    "ExecuteTime": {
     "end_time": "2022-06-26T00:30:30.642045Z",
     "start_time": "2022-06-26T00:30:30.625784Z"
    }
   },
   "outputs": [
    {
     "data": {
      "text/html": [
       "<div>\n",
       "<style scoped>\n",
       "    .dataframe tbody tr th:only-of-type {\n",
       "        vertical-align: middle;\n",
       "    }\n",
       "\n",
       "    .dataframe tbody tr th {\n",
       "        vertical-align: top;\n",
       "    }\n",
       "\n",
       "    .dataframe thead th {\n",
       "        text-align: right;\n",
       "    }\n",
       "</style>\n",
       "<table border=\"1\" class=\"dataframe\">\n",
       "  <thead>\n",
       "    <tr style=\"text-align: right;\">\n",
       "      <th></th>\n",
       "      <th>Survived</th>\n",
       "    </tr>\n",
       "    <tr>\n",
       "      <th>family_size</th>\n",
       "      <th></th>\n",
       "    </tr>\n",
       "  </thead>\n",
       "  <tbody>\n",
       "    <tr>\n",
       "      <th>0</th>\n",
       "      <td>30.35%</td>\n",
       "    </tr>\n",
       "    <tr>\n",
       "      <th>1</th>\n",
       "      <td>55.28%</td>\n",
       "    </tr>\n",
       "    <tr>\n",
       "      <th>2</th>\n",
       "      <td>57.84%</td>\n",
       "    </tr>\n",
       "    <tr>\n",
       "      <th>3</th>\n",
       "      <td>72.41%</td>\n",
       "    </tr>\n",
       "    <tr>\n",
       "      <th>4</th>\n",
       "      <td>20.0%</td>\n",
       "    </tr>\n",
       "    <tr>\n",
       "      <th>5</th>\n",
       "      <td>13.64%</td>\n",
       "    </tr>\n",
       "    <tr>\n",
       "      <th>6</th>\n",
       "      <td>33.33%</td>\n",
       "    </tr>\n",
       "    <tr>\n",
       "      <th>7</th>\n",
       "      <td>0.0%</td>\n",
       "    </tr>\n",
       "    <tr>\n",
       "      <th>10</th>\n",
       "      <td>0.0%</td>\n",
       "    </tr>\n",
       "  </tbody>\n",
       "</table>\n",
       "</div>"
      ],
      "text/plain": [
       "            Survived\n",
       "family_size         \n",
       "0             30.35%\n",
       "1             55.28%\n",
       "2             57.84%\n",
       "3             72.41%\n",
       "4              20.0%\n",
       "5             13.64%\n",
       "6             33.33%\n",
       "7               0.0%\n",
       "10              0.0%"
      ]
     },
     "execution_count": 10,
     "metadata": {},
     "output_type": "execute_result"
    }
   ],
   "source": [
    "# признак показывает, сколько вообще родственников у пассажира \n",
    "df['family_size'] = df['SibSp'] + df['Parch']\n",
    "\n",
    "df.groupby(['family_size']).agg({'Survived': percentage_of_survivors})"
   ]
  },
  {
   "cell_type": "markdown",
   "id": "ecbc51a5",
   "metadata": {},
   "source": [
    "#### Кажется, что для спасения идеально иметь немного родственников. Прежде, чем делать вывод, проверим количество родственников в зависимости от класса"
   ]
  },
  {
   "cell_type": "markdown",
   "id": "e8fc7906",
   "metadata": {},
   "source": [
    "_______\n",
    "### Количество родственников и их процент выживаемости для каждого класса"
   ]
  },
  {
   "cell_type": "code",
   "execution_count": 11,
   "id": "87caa093",
   "metadata": {
    "ExecuteTime": {
     "end_time": "2022-06-26T00:30:32.783254Z",
     "start_time": "2022-06-26T00:30:32.766733Z"
    }
   },
   "outputs": [
    {
     "data": {
      "text/html": [
       "<div>\n",
       "<style scoped>\n",
       "    .dataframe tbody tr th:only-of-type {\n",
       "        vertical-align: middle;\n",
       "    }\n",
       "\n",
       "    .dataframe tbody tr th {\n",
       "        vertical-align: top;\n",
       "    }\n",
       "\n",
       "    .dataframe thead tr th {\n",
       "        text-align: left;\n",
       "    }\n",
       "\n",
       "    .dataframe thead tr:last-of-type th {\n",
       "        text-align: right;\n",
       "    }\n",
       "</style>\n",
       "<table border=\"1\" class=\"dataframe\">\n",
       "  <thead>\n",
       "    <tr>\n",
       "      <th></th>\n",
       "      <th></th>\n",
       "      <th colspan=\"2\" halign=\"left\">Survived</th>\n",
       "    </tr>\n",
       "    <tr>\n",
       "      <th></th>\n",
       "      <th></th>\n",
       "      <th>percentage_of_survivors</th>\n",
       "      <th>count</th>\n",
       "    </tr>\n",
       "    <tr>\n",
       "      <th>Pclass</th>\n",
       "      <th>family_size</th>\n",
       "      <th></th>\n",
       "      <th></th>\n",
       "    </tr>\n",
       "  </thead>\n",
       "  <tbody>\n",
       "    <tr>\n",
       "      <th rowspan=\"6\" valign=\"top\">1</th>\n",
       "      <th>0</th>\n",
       "      <td>53.21%</td>\n",
       "      <td>109</td>\n",
       "    </tr>\n",
       "    <tr>\n",
       "      <th>1</th>\n",
       "      <td>72.86%</td>\n",
       "      <td>70</td>\n",
       "    </tr>\n",
       "    <tr>\n",
       "      <th>2</th>\n",
       "      <td>75.0%</td>\n",
       "      <td>24</td>\n",
       "    </tr>\n",
       "    <tr>\n",
       "      <th>3</th>\n",
       "      <td>71.43%</td>\n",
       "      <td>7</td>\n",
       "    </tr>\n",
       "    <tr>\n",
       "      <th>4</th>\n",
       "      <td>100.0%</td>\n",
       "      <td>2</td>\n",
       "    </tr>\n",
       "    <tr>\n",
       "      <th>5</th>\n",
       "      <td>50.0%</td>\n",
       "      <td>4</td>\n",
       "    </tr>\n",
       "    <tr>\n",
       "      <th rowspan=\"6\" valign=\"top\">2</th>\n",
       "      <th>0</th>\n",
       "      <td>34.62%</td>\n",
       "      <td>104</td>\n",
       "    </tr>\n",
       "    <tr>\n",
       "      <th>1</th>\n",
       "      <td>52.94%</td>\n",
       "      <td>34</td>\n",
       "    </tr>\n",
       "    <tr>\n",
       "      <th>2</th>\n",
       "      <td>67.74%</td>\n",
       "      <td>31</td>\n",
       "    </tr>\n",
       "    <tr>\n",
       "      <th>3</th>\n",
       "      <td>76.92%</td>\n",
       "      <td>13</td>\n",
       "    </tr>\n",
       "    <tr>\n",
       "      <th>4</th>\n",
       "      <td>100.0%</td>\n",
       "      <td>1</td>\n",
       "    </tr>\n",
       "    <tr>\n",
       "      <th>5</th>\n",
       "      <td>100.0%</td>\n",
       "      <td>1</td>\n",
       "    </tr>\n",
       "    <tr>\n",
       "      <th rowspan=\"9\" valign=\"top\">3</th>\n",
       "      <th>0</th>\n",
       "      <td>21.3%</td>\n",
       "      <td>324</td>\n",
       "    </tr>\n",
       "    <tr>\n",
       "      <th>1</th>\n",
       "      <td>35.09%</td>\n",
       "      <td>57</td>\n",
       "    </tr>\n",
       "    <tr>\n",
       "      <th>2</th>\n",
       "      <td>42.55%</td>\n",
       "      <td>47</td>\n",
       "    </tr>\n",
       "    <tr>\n",
       "      <th>3</th>\n",
       "      <td>66.67%</td>\n",
       "      <td>9</td>\n",
       "    </tr>\n",
       "    <tr>\n",
       "      <th>4</th>\n",
       "      <td>0.0%</td>\n",
       "      <td>12</td>\n",
       "    </tr>\n",
       "    <tr>\n",
       "      <th>5</th>\n",
       "      <td>0.0%</td>\n",
       "      <td>17</td>\n",
       "    </tr>\n",
       "    <tr>\n",
       "      <th>6</th>\n",
       "      <td>33.33%</td>\n",
       "      <td>12</td>\n",
       "    </tr>\n",
       "    <tr>\n",
       "      <th>7</th>\n",
       "      <td>0.0%</td>\n",
       "      <td>6</td>\n",
       "    </tr>\n",
       "    <tr>\n",
       "      <th>10</th>\n",
       "      <td>0.0%</td>\n",
       "      <td>7</td>\n",
       "    </tr>\n",
       "  </tbody>\n",
       "</table>\n",
       "</div>"
      ],
      "text/plain": [
       "                                  Survived      \n",
       "                   percentage_of_survivors count\n",
       "Pclass family_size                              \n",
       "1      0                            53.21%   109\n",
       "       1                            72.86%    70\n",
       "       2                             75.0%    24\n",
       "       3                            71.43%     7\n",
       "       4                            100.0%     2\n",
       "       5                             50.0%     4\n",
       "2      0                            34.62%   104\n",
       "       1                            52.94%    34\n",
       "       2                            67.74%    31\n",
       "       3                            76.92%    13\n",
       "       4                            100.0%     1\n",
       "       5                            100.0%     1\n",
       "3      0                             21.3%   324\n",
       "       1                            35.09%    57\n",
       "       2                            42.55%    47\n",
       "       3                            66.67%     9\n",
       "       4                              0.0%    12\n",
       "       5                              0.0%    17\n",
       "       6                            33.33%    12\n",
       "       7                              0.0%     6\n",
       "       10                             0.0%     7"
      ]
     },
     "execution_count": 11,
     "metadata": {},
     "output_type": "execute_result"
    }
   ],
   "source": [
    "df.groupby(['Pclass', 'family_size']).agg({'Survived':[percentage_of_survivors, 'count'],})"
   ]
  },
  {
   "cell_type": "markdown",
   "id": "0630e171",
   "metadata": {},
   "source": [
    "#### Из таблицы видно, в первом и во втором классах количество родственников очень редко больше 3. И кажется, что предыдущий результат показал именно это - если мало близких, значит ты едешь в высоком классе и именно поэтому шансы спастись увеличиваются. Однако, в низком классе заметно, что большие семьи плохо выживают. Но это объясняется тем, что в тренировочных данных для 5 человек показывается, что у них 5 родственников, а значит это одна семья. Из одного - двух примеров статистику не построишь, поэтому нельзя твердо утвержать, что количество людей в семье влияет на выживаемость."
   ]
  },
  {
   "cell_type": "markdown",
   "id": "ad25f0a6",
   "metadata": {},
   "source": [
    "___________\n",
    "### Зависимость возраста и цены от выживаемости в классах"
   ]
  },
  {
   "cell_type": "code",
   "execution_count": 12,
   "id": "d8dad77d",
   "metadata": {
    "ExecuteTime": {
     "end_time": "2022-06-26T00:30:35.510529Z",
     "start_time": "2022-06-26T00:30:34.616181Z"
    }
   },
   "outputs": [
    {
     "data": {
      "text/html": [
       "<div>\n",
       "<style scoped>\n",
       "    .dataframe tbody tr th:only-of-type {\n",
       "        vertical-align: middle;\n",
       "    }\n",
       "\n",
       "    .dataframe tbody tr th {\n",
       "        vertical-align: top;\n",
       "    }\n",
       "\n",
       "    .dataframe thead tr th {\n",
       "        text-align: left;\n",
       "    }\n",
       "\n",
       "    .dataframe thead tr:last-of-type th {\n",
       "        text-align: right;\n",
       "    }\n",
       "</style>\n",
       "<table border=\"1\" class=\"dataframe\">\n",
       "  <thead>\n",
       "    <tr>\n",
       "      <th></th>\n",
       "      <th></th>\n",
       "      <th colspan=\"2\" halign=\"left\">Age</th>\n",
       "      <th colspan=\"2\" halign=\"left\">Fare</th>\n",
       "    </tr>\n",
       "    <tr>\n",
       "      <th></th>\n",
       "      <th></th>\n",
       "      <th>mean</th>\n",
       "      <th>median</th>\n",
       "      <th>mean</th>\n",
       "      <th>median</th>\n",
       "    </tr>\n",
       "    <tr>\n",
       "      <th>Pclass</th>\n",
       "      <th>Survived</th>\n",
       "      <th></th>\n",
       "      <th></th>\n",
       "      <th></th>\n",
       "      <th></th>\n",
       "    </tr>\n",
       "  </thead>\n",
       "  <tbody>\n",
       "    <tr>\n",
       "      <th rowspan=\"2\" valign=\"top\">1</th>\n",
       "      <th>0</th>\n",
       "      <td>43.70</td>\n",
       "      <td>45.25</td>\n",
       "      <td>64.68</td>\n",
       "      <td>44.75</td>\n",
       "    </tr>\n",
       "    <tr>\n",
       "      <th>1</th>\n",
       "      <td>35.37</td>\n",
       "      <td>35.00</td>\n",
       "      <td>95.61</td>\n",
       "      <td>77.96</td>\n",
       "    </tr>\n",
       "    <tr>\n",
       "      <th rowspan=\"2\" valign=\"top\">2</th>\n",
       "      <th>0</th>\n",
       "      <td>33.54</td>\n",
       "      <td>30.50</td>\n",
       "      <td>19.41</td>\n",
       "      <td>13.00</td>\n",
       "    </tr>\n",
       "    <tr>\n",
       "      <th>1</th>\n",
       "      <td>25.90</td>\n",
       "      <td>28.00</td>\n",
       "      <td>22.06</td>\n",
       "      <td>21.00</td>\n",
       "    </tr>\n",
       "    <tr>\n",
       "      <th rowspan=\"2\" valign=\"top\">3</th>\n",
       "      <th>0</th>\n",
       "      <td>26.56</td>\n",
       "      <td>25.00</td>\n",
       "      <td>13.67</td>\n",
       "      <td>8.05</td>\n",
       "    </tr>\n",
       "    <tr>\n",
       "      <th>1</th>\n",
       "      <td>20.65</td>\n",
       "      <td>22.00</td>\n",
       "      <td>13.69</td>\n",
       "      <td>8.52</td>\n",
       "    </tr>\n",
       "  </tbody>\n",
       "</table>\n",
       "</div>"
      ],
      "text/plain": [
       "                   Age          Fare       \n",
       "                  mean median   mean median\n",
       "Pclass Survived                            \n",
       "1      0         43.70  45.25  64.68  44.75\n",
       "       1         35.37  35.00  95.61  77.96\n",
       "2      0         33.54  30.50  19.41  13.00\n",
       "       1         25.90  28.00  22.06  21.00\n",
       "3      0         26.56  25.00  13.67   8.05\n",
       "       1         20.65  22.00  13.69   8.52"
      ]
     },
     "execution_count": 12,
     "metadata": {},
     "output_type": "execute_result"
    },
    {
     "data": {
      "image/png": "[encoded data removed]",
      "text/plain": [
       "<Figure size 1860.13x595.44 with 3 Axes>"
      ]
     },
     "metadata": {},
     "output_type": "display_data"
    }
   ],
   "source": [
    "sns.displot(df, x=\"Age\",  col='Pclass', hue='Survived' , height=8.27, aspect=1);\n",
    "df.groupby(['Pclass', 'Survived']).agg({'Age':['mean', 'median'], 'Fare':['mean', 'median']}).round(2)"
   ]
  },
  {
   "cell_type": "markdown",
   "id": "1fc06fb2",
   "metadata": {},
   "source": [
    "Проведем тест на нормальность распределения возрастов по группам\n",
    "\n",
    "**H0 : Данные распределены нормально.**\n",
    "\n",
    "**H1: Данные не имеют нормального распределения.**\n",
    "\n"
   ]
  },
  {
   "cell_type": "code",
   "execution_count": 14,
   "id": "8b26c31f",
   "metadata": {
    "ExecuteTime": {
     "end_time": "2022-06-26T00:32:01.764508Z",
     "start_time": "2022-06-26T00:32:01.756079Z"
    }
   },
   "outputs": [
    {
     "name": "stdout",
     "output_type": "stream",
     "text": [
      "Распределение возрастов для 1 класса нормально. (p=0.4315)\n",
      "Распределение возрастов для 2 класса нормально. (p=0.56107)\n",
      "Распределение возрастов для 3 класса не нормально. (p=3e-05)\n"
     ]
    }
   ],
   "source": [
    "for pclass in range(1, 4):\n",
    "    a = df['Age'][(df['Pclass'] == pclass)].dropna().values\n",
    "    p = stats.normaltest(a)[1]\n",
    "    \n",
    "    if  p > 0.05:\n",
    "        print(f'Распределение возрастов для {pclass} класса нормально. (p={round(p, 5)})')\n",
    "    else:\n",
    "        print(f'Распределение возрастов для {pclass} класса не нормально. (p={round(p, 5)})')"
   ]
  },
  {
   "cell_type": "markdown",
   "id": "ca082363",
   "metadata": {},
   "source": [
    "#### Распределения возрастов для 1 и 2 классов можно считать нормальными. \n",
    "Учитывая, что\n",
    "- Возраст - числовой признак\n",
    "- Нормально распределен\n",
    "- Группы независимы\n",
    "- Сравниваются две группы (выжившие, мертвые)\n",
    "\n",
    "Выбирается т-критерий Стьюдента для сравнения средних возрастов пассажиров по классам.\n",
    "\n",
    "**H0 : Между выборками значимых различий нет.**\n",
    "\n",
    "**H1: Значимые различия есть**\n"
   ]
  },
  {
   "cell_type": "code",
   "execution_count": 43,
   "id": "a4f324ef",
   "metadata": {
    "ExecuteTime": {
     "end_time": "2022-06-25T23:38:12.612481Z",
     "start_time": "2022-06-25T23:38:12.603871Z"
    }
   },
   "outputs": [
    {
     "name": "stdout",
     "output_type": "stream",
     "text": [
      "Между выборками есть значимые различия. (p=0.00022)\n",
      "Между выборками есть значимые различия. (p=0.00027)\n"
     ]
    }
   ],
   "source": [
    "# проводится тест только для 1 и 2 классов, так как они прошли тест на нормальность\n",
    "for pclass in range(1,3):\n",
    "    a = df['Age'][(df['Pclass'] == pclass) & (df['Survived'] == 0)].dropna().values\n",
    "    b = df['Age'][(df['Pclass'] == pclass) & (df['Survived'] == 1)].dropna().values\n",
    "    p = stats.ttest_ind(a, b)[1]\n",
    "    \n",
    "    if  p > 0.05:\n",
    "        print(f'Между выборками значимых различий нет. (p={round(p, 5)})')\n",
    "    else:\n",
    "        print(f'Между выборками есть значимые различия. (p={round(p, 5)})')"
   ]
  },
  {
   "cell_type": "markdown",
   "id": "dc36fd91",
   "metadata": {},
   "source": [
    "_В 3 классе визуально видно, что выжившие группируются ближе к молодости._\n",
    "### Можно сделать вывод, что лучше выживают более богатые, а в группах по богатству более молодые"
   ]
  },
  {
   "cell_type": "markdown",
   "id": "705f242e",
   "metadata": {},
   "source": [
    "### В признаке Cabin обнаружено, что есть пассажиры с несколькими каютами"
   ]
  },
  {
   "cell_type": "code",
   "execution_count": 12,
   "id": "7ff490fa",
   "metadata": {
    "ExecuteTime": {
     "end_time": "2022-06-23T03:57:21.359179Z",
     "start_time": "2022-06-23T03:57:21.344866Z"
    }
   },
   "outputs": [
    {
     "data": {
      "text/html": [
       "<div>\n",
       "<style scoped>\n",
       "    .dataframe tbody tr th:only-of-type {\n",
       "        vertical-align: middle;\n",
       "    }\n",
       "\n",
       "    .dataframe tbody tr th {\n",
       "        vertical-align: top;\n",
       "    }\n",
       "\n",
       "    .dataframe thead th {\n",
       "        text-align: right;\n",
       "    }\n",
       "</style>\n",
       "<table border=\"1\" class=\"dataframe\">\n",
       "  <thead>\n",
       "    <tr style=\"text-align: right;\">\n",
       "      <th></th>\n",
       "      <th></th>\n",
       "      <th>count_cabin</th>\n",
       "    </tr>\n",
       "    <tr>\n",
       "      <th>Survived</th>\n",
       "      <th>count_cabin</th>\n",
       "      <th></th>\n",
       "    </tr>\n",
       "  </thead>\n",
       "  <tbody>\n",
       "    <tr>\n",
       "      <th rowspan=\"3\" valign=\"top\">0</th>\n",
       "      <th>1</th>\n",
       "      <td>539</td>\n",
       "    </tr>\n",
       "    <tr>\n",
       "      <th>2</th>\n",
       "      <td>7</td>\n",
       "    </tr>\n",
       "    <tr>\n",
       "      <th>3</th>\n",
       "      <td>3</td>\n",
       "    </tr>\n",
       "    <tr>\n",
       "      <th rowspan=\"4\" valign=\"top\">1</th>\n",
       "      <th>1</th>\n",
       "      <td>328</td>\n",
       "    </tr>\n",
       "    <tr>\n",
       "      <th>2</th>\n",
       "      <td>9</td>\n",
       "    </tr>\n",
       "    <tr>\n",
       "      <th>3</th>\n",
       "      <td>3</td>\n",
       "    </tr>\n",
       "    <tr>\n",
       "      <th>4</th>\n",
       "      <td>2</td>\n",
       "    </tr>\n",
       "  </tbody>\n",
       "</table>\n",
       "</div>"
      ],
      "text/plain": [
       "                      count_cabin\n",
       "Survived count_cabin             \n",
       "0        1                    539\n",
       "         2                      7\n",
       "         3                      3\n",
       "1        1                    328\n",
       "         2                      9\n",
       "         3                      3\n",
       "         4                      2"
      ]
     },
     "execution_count": 12,
     "metadata": {},
     "output_type": "execute_result"
    }
   ],
   "source": [
    "df['count_cabin'] = df['Cabin'].astype(str).map(lambda x: len(x.split(' ')))\n",
    "\n",
    "df.groupby(['Survived', 'count_cabin']).agg({'count_cabin':'count' })"
   ]
  },
  {
   "cell_type": "markdown",
   "id": "d3407bd5",
   "metadata": {},
   "source": [
    "# Обработка признаков"
   ]
  },
  {
   "cell_type": "code",
   "execution_count": 13,
   "id": "ddf8292c",
   "metadata": {
    "ExecuteTime": {
     "end_time": "2022-06-23T03:57:41.364170Z",
     "start_time": "2022-06-23T03:57:41.347463Z"
    }
   },
   "outputs": [],
   "source": [
    "def claster_fillna(df, name_feature):\n",
    "    index_feature = df.columns.tolist().index(name_feature)    \n",
    "    impute_feature = KNN(k=2, verbose=0).fit_transform(df)[:, index_feature]\n",
    "    return impute_feature\n",
    "\n",
    "# категориальные признаки\n",
    "cols_cat =['Pclass', 'Sex', 'SibSp', 'family_size', 'Embarked', 'Parch',\n",
    "           'Ticket', 'Cabin', 'Cabin_count_psng', 'Words_in_name', 'last_name',  'first_Name'] #Ticket_duplicate\n",
    "# текстовый признак\n",
    "cols_txt = ['Name']\n",
    "\n",
    "# 22.86 Растояние от палубы, на которой находились спасательные шлюпки, до нижнего жилого этажа\n",
    "# 7 - количество жилых этажей\n",
    "l = 22.86/7\n",
    "# словарь для перевода кабины в шкалу расстояния от верхней палубы \n",
    "distance_to_deck = {'A':l , 'B':2*l , 'C':3*l , 'D':4*l , 'F':5*l , 'E':6*l , 'G':7*l }\n",
    "\n",
    "def clear_df(df):\n",
    "    # создание признака, показывающий расстояние до верхней палубы\n",
    "    df['Cabin_distance'] = df['Cabin'].apply(lambda x: distance_to_deck.get(str(x)[0], np.nan))\n",
    "    # признак - состоит ли билет только из цифр\n",
    "    df['Ticket_onlynum'] = df['Ticket'].apply(lambda x: int(x.isdigit()))\n",
    "    # количество пассажиров в кабине\n",
    "    df['Cabin_count_psng'] = df['Cabin'].astype(str).map(lambda x: len(x.split(' ')))\n",
    "    # Кодирование категориальных признаков\n",
    "    df['Sex'] = df['Sex'].apply(lambda x: {'male':0, 'female':1}.get(x, -1))\n",
    "    # признак показывает, сколько вообще родственников у пассажира \n",
    "    df['family_size'] = df['SibSp'] + df['Parch']\n",
    "    # асстояние от палубы с шлюпками до палубы пассажира\n",
    "    df['Cabin_distance'] = claster_fillna(df.drop(columns=['Name', 'Ticket', 'Cabin', 'Embarked', 'PassengerId']), 'Cabin_distance')    \n",
    "    # Числовые признаки\n",
    "    NUMERIC = ['Fare', 'Age']\n",
    "    # заполнение числового признака\n",
    "    df[NUMERIC] = df[NUMERIC].fillna(-1).astype(float)\n",
    "    # Названия с очень низким количеством приставок будут заменены на \"редкие\"\n",
    "    rare_titles = ['Dona', 'Lady', 'the Countess','Capt', 'Col', 'Don', 'Dr', 'Major', 'Rev', 'Sir', 'Jonkheer']\n",
    "    df['Name'].replace(rare_titles, \"Rare title\", inplace=True)\n",
    "    # \"Mlle\",\"Ms\", \"Mme\" заменяем на \"Miss\", \"Mrs\"\n",
    "    df['Name'].replace([\"Mlle\",\"Ms\", \"Mme\"], [\"Miss\", \"Miss\", \"Mrs\"], inplace=True)\n",
    "    # количество слов в графе Name\n",
    "    df['Words_in_name'] = df['Name'].str.findall('[A-Za-z]+').apply(len)    \n",
    "    # берем только имя\n",
    "    df['first_Name'] = df['Name'].apply(lambda x: x.split(',')[0].strip())\n",
    "    df['first_Name'] = df['first_Name'].str.lower()\n",
    "    # берем последнее слово из строки Name\n",
    "    df['last_name'] = df['Name'].apply(lambda x: x.split(' ')[-1].strip())\n",
    "    bad_chars = ('\"', '(', ')', '-',)\n",
    "    for bad_char in bad_chars:\n",
    "        df['last_name'] = df['last_name'].str.replace( bad_char, '')\n",
    "    # занижаем послежнее слово\n",
    "    df['last_name'] = df['last_name'].str.lower()\n",
    "    # заполнение пустых значений у нечисловых признаках\n",
    "    df[cols_cat] = df[cols_cat].fillna('').astype(str)\n",
    "    df[cols_txt] = df[cols_txt].fillna('').astype(str)    \n",
    "    # Удаление индексов\n",
    "    df = df.drop(columns=['PassengerId'])\n",
    "    # стандартизация\n",
    "    df[NUMERIC] = (df[NUMERIC] - df[NUMERIC].mean())/df[NUMERIC].std()\n",
    "    \n",
    "    return df"
   ]
  },
  {
   "cell_type": "code",
   "execution_count": 14,
   "id": "d49ad73b",
   "metadata": {
    "ExecuteTime": {
     "end_time": "2022-06-23T03:57:42.172397Z",
     "start_time": "2022-06-23T03:57:41.990069Z"
    }
   },
   "outputs": [],
   "source": [
    "# Загрузка данных\n",
    "df = pd.read_csv('./data/titanic/train.csv')\n",
    "df_test = pd.read_csv('./data/titanic/test.csv')\n",
    "\n",
    "# предобработка\n",
    "df_target = df.pop('Survived')\n",
    "df = clear_df(df)\n",
    "df_test = clear_df(df_test)"
   ]
  },
  {
   "cell_type": "markdown",
   "id": "297cbc7b",
   "metadata": {},
   "source": [
    "## Индексы категориальных и текстовых фичей"
   ]
  },
  {
   "cell_type": "code",
   "execution_count": 15,
   "id": "81ecfb9c",
   "metadata": {
    "ExecuteTime": {
     "end_time": "2022-06-23T03:57:42.776379Z",
     "start_time": "2022-06-23T03:57:42.769457Z"
    }
   },
   "outputs": [],
   "source": [
    "cat_ind = [i for i, col in enumerate(df.columns) if col in cols_cat]\n",
    "text_ind = [i for i, col in enumerate(df.columns) if col in cols_txt]"
   ]
  },
  {
   "cell_type": "markdown",
   "id": "19d63511",
   "metadata": {},
   "source": [
    "## Разделение на тесотвую и валидационную подвыборки"
   ]
  },
  {
   "cell_type": "code",
   "execution_count": 16,
   "id": "5ae9874b",
   "metadata": {
    "ExecuteTime": {
     "end_time": "2022-06-23T03:57:43.194137Z",
     "start_time": "2022-06-23T03:57:43.188570Z"
    }
   },
   "outputs": [],
   "source": [
    "X_train, X_test, y_train, y_test = train_test_split(df.values,\n",
    "                                                    df_target.values,\n",
    "                                                    train_size=0.6,\n",
    "                                                    random_state=42)"
   ]
  },
  {
   "cell_type": "markdown",
   "id": "6ae93960",
   "metadata": {},
   "source": [
    "# Обучение модели"
   ]
  },
  {
   "cell_type": "code",
   "execution_count": 17,
   "id": "b9936766",
   "metadata": {
    "ExecuteTime": {
     "end_time": "2022-06-23T03:58:39.604112Z",
     "start_time": "2022-06-23T03:57:44.272401Z"
    },
    "scrolled": false
   },
   "outputs": [
    {
     "data": {
      "application/vnd.jupyter.widget-view+json": {
       "model_id": "44b5e3d10ebf43c397ee2aad1a37d7b9",
       "version_major": 2,
       "version_minor": 0
      },
      "text/plain": [
       "MetricVisualizer(layout=Layout(align_self='stretch', height='500px'))"
      ]
     },
     "metadata": {},
     "output_type": "display_data"
    },
    {
     "data": {
      "text/plain": [
       "<catboost.core.CatBoostClassifier at 0x7f5422c93ac8>"
      ]
     },
     "execution_count": 17,
     "metadata": {},
     "output_type": "execute_result"
    }
   ],
   "source": [
    "model = CatBoostClassifier(iterations=15000,\n",
    "                           depth=5,\n",
    "                           learning_rate=0.0001,\n",
    "                           l2_leaf_reg=0.01,\n",
    "                           random_seed=421,\n",
    "                           eval_metric='Accuracy',\n",
    "                           use_best_model=True,\n",
    "                           bagging_temperature=0.,\n",
    "                           #bootstrap_type='MVS',\n",
    "                           verbose=False)\n",
    "\n",
    "model.fit(\n",
    "    X_train,\n",
    "    y_train,\n",
    "    eval_set=(X_test, y_test),\n",
    "    cat_features=cat_ind,\n",
    "    text_features=text_ind,\n",
    "    plot=True\n",
    ")"
   ]
  },
  {
   "cell_type": "markdown",
   "id": "440f1520",
   "metadata": {},
   "source": [
    "## Точность на валидационной подвыборке"
   ]
  },
  {
   "cell_type": "code",
   "execution_count": 18,
   "id": "1ab50f8b",
   "metadata": {
    "ExecuteTime": {
     "end_time": "2022-06-23T03:58:39.686281Z",
     "start_time": "2022-06-23T03:58:39.675389Z"
    }
   },
   "outputs": [
    {
     "data": {
      "text/plain": [
       "0.8235294117647058"
      ]
     },
     "execution_count": 18,
     "metadata": {},
     "output_type": "execute_result"
    }
   ],
   "source": [
    "accuracy_score( y_test, model.predict(X_test) )"
   ]
  },
  {
   "cell_type": "markdown",
   "id": "96512410",
   "metadata": {},
   "source": [
    "# Обучение на полных данных"
   ]
  },
  {
   "cell_type": "code",
   "execution_count": 19,
   "id": "5779f96e",
   "metadata": {
    "ExecuteTime": {
     "end_time": "2022-06-23T03:59:48.323893Z",
     "start_time": "2022-06-23T03:58:44.329384Z"
    }
   },
   "outputs": [
    {
     "data": {
      "text/plain": [
       "<catboost.core.CatBoostClassifier at 0x7f542b0f7198>"
      ]
     },
     "execution_count": 19,
     "metadata": {},
     "output_type": "execute_result"
    }
   ],
   "source": [
    "full_model = CatBoostClassifier(**model.get_params())\n",
    "\n",
    "full_model.fit(\n",
    "    df.values,\n",
    "    df_target.values,\n",
    "    eval_set=(X_test, y_test),\n",
    "    cat_features=cat_ind,\n",
    "    text_features=text_ind,\n",
    ")"
   ]
  },
  {
   "cell_type": "markdown",
   "id": "43a9b612",
   "metadata": {},
   "source": [
    "____________\n",
    "## Анализ модели"
   ]
  },
  {
   "cell_type": "markdown",
   "id": "e3c3fef0",
   "metadata": {},
   "source": [
    "### Важность признака для модели"
   ]
  },
  {
   "cell_type": "code",
   "execution_count": 20,
   "id": "aff8eb6b",
   "metadata": {
    "ExecuteTime": {
     "end_time": "2022-06-23T03:59:48.521455Z",
     "start_time": "2022-06-23T03:59:48.378394Z"
    }
   },
   "outputs": [
    {
     "data": {
      "image/png": "[encoded data removed]",
      "text/plain": [
       "<Figure size 1095.12x774.072 with 1 Axes>"
      ]
     },
     "metadata": {},
     "output_type": "display_data"
    }
   ],
   "source": [
    "# извлекаем из модели важность признаков\n",
    "df_temp = pd.DataFrame(sorted(list(zip(full_model.feature_importances_, df.columns)), key=lambda x:x[0]))\n",
    "df_temp.columns = ['importances', 'features']\n",
    "# возьмем признаки, которые делают вклад больше 1\n",
    "df_temp = df_temp[df_temp['importances'] > 1]\n",
    "# строим график\n",
    "colors = sns.color_palette('pastel')[0:6]\n",
    "plt.pie(df_temp['importances'], labels= df_temp['features'], colors = colors, autopct='%.0f%%')\n",
    "plt.title('Целевой признак')\n",
    "plt.show()"
   ]
  },
  {
   "cell_type": "markdown",
   "id": "4b850e08",
   "metadata": {},
   "source": [
    "### Cкорость обработки 891 запросов"
   ]
  },
  {
   "cell_type": "code",
   "execution_count": 21,
   "id": "526e8d95",
   "metadata": {
    "ExecuteTime": {
     "end_time": "2022-06-23T03:59:48.600668Z",
     "start_time": "2022-06-23T03:59:48.585021Z"
    }
   },
   "outputs": [
    {
     "name": "stdout",
     "output_type": "stream",
     "text": [
      "CPU times: user 43.7 ms, sys: 0 ns, total: 43.7 ms\n",
      "Wall time: 12.8 ms\n"
     ]
    }
   ],
   "source": [
    "%%time\n",
    "_ = full_model.predict(df.values);"
   ]
  },
  {
   "cell_type": "markdown",
   "id": "cb651a02",
   "metadata": {},
   "source": [
    "___________\n",
    "##  Сохранение предсказаний для kaggle"
   ]
  },
  {
   "cell_type": "code",
   "execution_count": 23,
   "id": "9b9c1d84",
   "metadata": {
    "ExecuteTime": {
     "end_time": "2022-06-23T04:00:04.647819Z",
     "start_time": "2022-06-23T04:00:04.637201Z"
    }
   },
   "outputs": [],
   "source": [
    "predicts = full_model.predict(df_test.values)\n",
    "df_sub = pd.read_csv('./data/titanic/gender_submission.csv')\n",
    "df_sub['Survived'] = predicts\n",
    "df_sub.to_csv('gender_submission.csv', index=False)"
   ]
  },
  {
   "cell_type": "markdown",
   "id": "f7966608",
   "metadata": {},
   "source": [
    "### Точность на kaggle: 0.80622"
   ]
  },
  {
   "cell_type": "markdown",
   "id": "91a2f386",
   "metadata": {},
   "source": [
    "_______\n",
    "## Сохраненеи модели"
   ]
  },
  {
   "cell_type": "code",
   "execution_count": 25,
   "id": "0bfc5857",
   "metadata": {
    "ExecuteTime": {
     "end_time": "2022-06-23T04:00:51.057481Z",
     "start_time": "2022-06-23T04:00:51.036453Z"
    }
   },
   "outputs": [],
   "source": [
    "full_model.save_model('./model/model')\n",
    "\n",
    "with open('./model/params.txt', 'w') as f:\n",
    "    f.write(str(full_model.get_params()))"
   ]
  },
  {
   "cell_type": "code",
   "execution_count": 362,
   "id": "bbf97717",
   "metadata": {
    "ExecuteTime": {
     "end_time": "2022-06-22T02:20:59.433368Z",
     "start_time": "2022-06-22T02:20:59.396779Z"
    },
    "deletable": false,
    "editable": false,
    "run_control": {
     "frozen": true
    }
   },
   "outputs": [],
   "source": [
    "_model_save()"
   ]
  },
  {
   "cell_type": "code",
   "execution_count": null,
   "id": "6397abfa",
   "metadata": {},
   "outputs": [],
   "source": []
  }
 ],
 "metadata": {
  "kernelspec": {
   "display_name": "Python 3",
   "language": "python",
   "name": "python3"
  },
  "language_info": {
   "codemirror_mode": {
    "name": "ipython",
    "version": 3
   },
   "file_extension": ".py",
   "mimetype": "text/x-python",
   "name": "python",
   "nbconvert_exporter": "python",
   "pygments_lexer": "ipython3",
   "version": "3.6.9"
  },
  "varInspector": {
   "cols": {
    "lenName": 16,
    "lenType": 16,
    "lenVar": 40
   },
   "kernels_config": {
    "python": {
     "delete_cmd_postfix": "",
     "delete_cmd_prefix": "del ",
     "library": "var_list.py",
     "varRefreshCmd": "print(var_dic_list())"
    },
    "r": {
     "delete_cmd_postfix": ") ",
     "delete_cmd_prefix": "rm(",
     "library": "var_list.r",
     "varRefreshCmd": "cat(var_dic_list()) "
    }
   },
   "oldHeight": 221.846364,
   "position": {
    "height": "243.821px",
    "left": "1041.44px",
    "right": "20px",
    "top": "43.9773px",
    "width": "529.006px"
   },
   "types_to_exclude": [
    "module",
    "function",
    "builtin_function_or_method",
    "instance",
    "_Feature"
   ],
   "varInspector_section_display": "block",
   "window_display": false
  },
  "widgets": {
   "application/vnd.jupyter.widget-state+json": {
    "state": {},
    "version_major": 2,
    "version_minor": 0
   }
  }
 },
 "nbformat": 4,
 "nbformat_minor": 5
}
