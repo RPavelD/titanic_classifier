{
 "cells": [
  {
   "cell_type": "code",
   "execution_count": 1,
   "id": "524a49e7",
   "metadata": {
    "ExecuteTime": {
     "end_time": "2022-06-23T04:02:30.614774Z",
     "start_time": "2022-06-23T04:02:29.825017Z"
    }
   },
   "outputs": [],
   "source": [
    "import telebot\n",
    "import pandas as pd\n",
    "from machine_state import MachineStates, Test\n",
    "from preprocessing import clear_df\n",
    "from catboost import CatBoostClassifier"
   ]
  },
  {
   "cell_type": "code",
   "execution_count": 2,
   "id": "94d36257",
   "metadata": {
    "ExecuteTime": {
     "end_time": "2022-06-23T04:02:30.662842Z",
     "start_time": "2022-06-23T04:02:30.634376Z"
    }
   },
   "outputs": [],
   "source": [
    "model = CatBoostClassifier()\n",
    "model.load_model('../model/model')\n",
    "\n",
    "# Опросник для титиника\n",
    "step_by_step =(\n",
    "    (\n",
    "        'В каком классе обслуживания вы бы поехали?',\n",
    "        Test( int_test=True, boundaries_test=True, sequence_boundaries=(1,3) )),\n",
    "    (\n",
    "        'Какое у Вас имя на английском? (ФИО)',\n",
    "        Test(valid_text_test=True, regex_for_valid_text='^\\s*\\w+\\s+\\w+\\s+\\w+\\s*$')),\n",
    "    (\n",
    "        'Какой у Вас пол? (male/female)', \n",
    "        Test(entering_test=True, entering_set=('male', 'female'))),\n",
    "    (\n",
    "        'Сколько Вам лет?', \n",
    "        Test(boundaries_test=True, sequence_boundaries=(0, 100))),\n",
    "    (\n",
    "        'Сколько с Вами поедет сестер, братьев?', \n",
    "        Test(int_test=True, boundaries_test=True, sequence_boundaries=(0, 30))),\n",
    "    (\n",
    "        'Сколько с Вами поедет родителей и Ваших детей?',\n",
    "        Test(int_test=True, boundaries_test=True, sequence_boundaries=(0, 30))),\n",
    "    (\n",
    "        'Какой номер у Вашего билета? (5 цифр) ',\n",
    "        Test(valid_text_test=True, regex_for_valid_text='^\\s*\\d{5}\\s*$')),\n",
    "    (\n",
    "        'Какая у Вас кабина? (3 цифры) ',\n",
    "        Test(valid_text_test=True, regex_for_valid_text='^\\s*\\d{3}\\s*$')\n",
    "    ),\n",
    "    (\n",
    "        'Сколько стоит Ваш билет?',\n",
    "        Test(boundaries_test=True, sequence_boundaries=(0, 500))),\n",
    "    (\n",
    "        'В каком городе Вы бы зашли на борт Титаника?',\n",
    "        Test(entering_test=True, entering_set=('Q', 'S', 'C'))),\n",
    "    (\n",
    "        'Поздравляю, Вы прошли опрос!', \n",
    "        None)\n",
    ")\n",
    "\n",
    "COLUMNS = [\n",
    "    'PassengerId',\n",
    "    'Pclass',\n",
    "    'Name',\n",
    "    'Sex',\n",
    "    'Age',\n",
    "    'SibSp',\n",
    "    'Parch',\n",
    "    'Ticket',\n",
    "    'Fare',\n",
    "    'Cabin',\n",
    "    'Embarked'\n",
    "]\n",
    "# типы данных для колонок\n",
    "DTYPES = pd.read_csv('../data/titanic/test.csv').dtypes"
   ]
  },
  {
   "cell_type": "code",
   "execution_count": 5,
   "id": "a9919787",
   "metadata": {
    "ExecuteTime": {
     "end_time": "2022-06-23T04:02:39.240389Z",
     "start_time": "2022-06-23T04:02:39.236419Z"
    }
   },
   "outputs": [],
   "source": [
    "def set_types_df(df):\n",
    "    for col in DTYPES.index:\n",
    "        df[col] = df[col].astype(DTYPES.at[col])\n",
    "        \n",
    "    return df\n",
    "\n",
    "\n",
    "def get_submit(arr):\n",
    "    if len(arr) < 11:\n",
    "        arr = [0] + arr\n",
    "        \n",
    "    df_temp = pd.DataFrame(arr).T\n",
    "    df_temp.columns = COLUMNS\n",
    "    df_temp = set_types_df(df_temp)\n",
    "    df_temp = clear_df(df_temp)\n",
    "    return 'К сожалению, Вы бы не выжили' if model.predict(df_temp.values)[0] == 0 else 'Поздравляем, Вы бы выжили!'\n"
   ]
  },
  {
   "cell_type": "code",
   "execution_count": 8,
   "id": "a43a8899",
   "metadata": {
    "ExecuteTime": {
     "end_time": "2022-06-23T04:04:53.621359Z",
     "start_time": "2022-06-23T04:02:45.154656Z"
    }
   },
   "outputs": [],
   "source": [
    "\n",
    "IDS_machine_state = {}\n",
    "\n",
    "TOKEN = open('../TOKEN.txt').read()\n",
    "\n",
    "#Сюда подставляете свой токен\n",
    "bot = telebot.TeleBot(TOKEN)\n",
    "\n",
    "@bot.message_handler(commands=['start'])\n",
    "def start_message(message):\n",
    "    global IDS_machine_state\n",
    "    \n",
    "    # создание машины состояний для пользователя\n",
    "    IDS_machine_state[message.chat.id] = MachineStates(step_by_step)\n",
    "    \n",
    "    msg = IDS_machine_state[message.chat](answer=None)\n",
    "    print(type(msg))\n",
    "    bot.send_message(message.chat.id, f'Выжили бы Вы на Титанике?\\n\\n{msg}')\n",
    "    # создание машины состояний для пользователя\n",
    "    #IDS_machine_state[message.chat.id] = MachineStates(step_by_step)\n",
    "    # отправка первого вопроса\n",
    "    #bot.send_message(message.chat.id, IDS_machine_state[message.chat]()[0])\n",
    "\n",
    "\n",
    "@bot.message_handler(commands=['last'])\n",
    "def last_message(message):\n",
    "    if message.chat.id in IDS_machine_state:\n",
    "        # переход на предыдущий шаг\n",
    "        machine_reaction = IDS_machine_state[message.chat.id](get_last=True)\n",
    "        # отправка текста\n",
    "        bot.send_message(message.chat.id, machine_reaction[0])\n",
    "    \n",
    "\n",
    "@bot.message_handler(content_types=['text'])\n",
    "def send_text(message='text'):\n",
    "    global IDS_machine_state\n",
    "    # id чата\n",
    "    chat_id = message.chat.id \n",
    "    \n",
    "    if chat_id not in IDS_machine_state:\n",
    "        IDS_machine_state[chat_id] = MachineStates(step_by_step)\n",
    "\n",
    "    # Вызов машины состояния\n",
    "    machine_reaction = IDS_machine_state[chat_id](answer=message.text)\n",
    "    # отправляем сообщение об окончании\n",
    "    bot.send_message(message.chat.id, machine_reaction[0])\n",
    "    # если достигнут последний вопрос\n",
    "    if machine_reaction[1]:\n",
    "        # отправляем на предсказание\n",
    "        submit = get_submit(IDS_machine_state[chat_id].get_answer())\n",
    "        # отправляем результат\n",
    "        bot.send_message(message.chat.id, str(submit))\n",
    "        # пересоздаем машину состаяния\n",
    "        IDS_machine_state[chat_id] = MachineStates(step_by_step)\n",
    "    \n",
    "\n",
    "bot.polling()\n",
    "#сами смайлики прописать не могу, иначе публикация не обрабатывается на habr"
   ]
  },
  {
   "cell_type": "code",
   "execution_count": null,
   "id": "ff234d8c",
   "metadata": {},
   "outputs": [],
   "source": []
  }
 ],
 "metadata": {
  "kernelspec": {
   "display_name": "Python 3",
   "language": "python",
   "name": "python3"
  },
  "language_info": {
   "codemirror_mode": {
    "name": "ipython",
    "version": 3
   },
   "file_extension": ".py",
   "mimetype": "text/x-python",
   "name": "python",
   "nbconvert_exporter": "python",
   "pygments_lexer": "ipython3",
   "version": "3.6.9"
  },
  "varInspector": {
   "cols": {
    "lenName": 16,
    "lenType": 16,
    "lenVar": 40
   },
   "kernels_config": {
    "python": {
     "delete_cmd_postfix": "",
     "delete_cmd_prefix": "del ",
     "library": "var_list.py",
     "varRefreshCmd": "print(var_dic_list())"
    },
    "r": {
     "delete_cmd_postfix": ") ",
     "delete_cmd_prefix": "rm(",
     "library": "var_list.r",
     "varRefreshCmd": "cat(var_dic_list()) "
    }
   },
   "types_to_exclude": [
    "module",
    "function",
    "builtin_function_or_method",
    "instance",
    "_Feature"
   ],
   "window_display": false
  }
 },
 "nbformat": 4,
 "nbformat_minor": 5
}
